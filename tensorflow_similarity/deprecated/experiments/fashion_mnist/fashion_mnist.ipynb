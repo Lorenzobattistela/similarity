{
 "cells": [
  {
   "cell_type": "markdown",
   "metadata": {},
   "source": [
    "# Using tf.similarity on fashion mnist dataset\n",
    "\n",
    "This tutorial uses tf.similiarity package to show how we can use tf.similarity on the fashion mnist dataset.\n",
    "\n",
    "Although GPU usage is not required but is highly recommended."
   ]
  },
  {
   "cell_type": "code",
   "execution_count": null,
   "metadata": {},
   "outputs": [],
   "source": [
    "# run this cell if you want to suppress warnings\n",
    "import warnings\n",
    "warnings.filterwarnings('ignore')"
   ]
  },
  {
   "cell_type": "code",
   "execution_count": null,
   "metadata": {},
   "outputs": [],
   "source": [
    "# imports\n",
    "import numpy as np\n",
    "import six\n",
    "import tensorflow as tf\n",
    "from absl import app, flags\n",
    "from tensorflow.keras.layers import (Conv2D, Dense, Dropout, Flatten, Input,\n",
    "                                     MaxPooling2D)\n",
    "from tensorflow.keras.models import Model\n",
    "from tensorflow.keras.optimizers import Adam\n",
    "import tempfile\n",
    "import tabulate\n",
    "from tensorflow_similarity.api.engine.preprocessing import Preprocessing\n",
    "from tensorflow_similarity.api.engine.simhash import SimHash"
   ]
  },
  {
   "cell_type": "markdown",
   "metadata": {},
   "source": [
    "## Read in fashion mnist dataset"
   ]
  },
  {
   "cell_type": "code",
   "execution_count": null,
   "metadata": {},
   "outputs": [],
   "source": [
    "def read_fashion_mnist_data():\n",
    "    \"\"\" Returns the fashion mnist data.\n",
    "\n",
    "    Read the fashion mnist data from tf.keras.datasets and split\n",
    "    the test dataset into test and target datasets.\n",
    "    For more information on fashion mnist, please visit:\n",
    "    https://keras.io/datasets/#fashion-mnist-database-of-fashion-articles\n",
    "\n",
    "    Returns:\n",
    "        A tuple that contains three elements. The first element\n",
    "        is a tuple that contains data used for training and\n",
    "        the second element is a tuple that contains data used\n",
    "        for testing. The third element is a tuple that contains\n",
    "        the target data. All three tuples have the same\n",
    "        structure, they contains two elements. The first\n",
    "        element contains a dictionary for the specs of fashion mnist data\n",
    "        (in 2d np array), the second element contains\n",
    "        an np array of labels of class.\n",
    "    \"\"\"\n",
    "\n",
    "    (x_train, y_train), (x_test_raw,\n",
    "                         y_test_raw) = tf.keras.datasets.fashion_mnist.load_data()\n",
    "\n",
    "    # Names of the integer classes, i.e., 0 -> T-short/top, 1 -> Trouser, etc.\n",
    "    class_names = ['T-shirt/top', 'Trouser', 'Pullover', 'Dress', 'Coat',\n",
    "                   'Sandal', 'Shirt', 'Sneaker', 'Bag', 'Ankle boot']\n",
    "\n",
    "    # re-label training and testing datasets\n",
    "    y_train = [class_names[label] for label in y_train]\n",
    "    y_test_raw = [class_names[label] for label in y_test_raw]\n",
    "\n",
    "    x_tests = []\n",
    "    y_tests = []\n",
    "\n",
    "    x_targets = []\n",
    "    y_targets = []\n",
    "\n",
    "    seen = set()\n",
    "    for x, y in zip(x_test_raw, y_test_raw):\n",
    "        if y not in seen:\n",
    "            seen.add(y)\n",
    "            x_targets.append(x)\n",
    "            y_targets.append(y)\n",
    "        else:\n",
    "            x_tests.append(x)\n",
    "            y_tests.append(y)\n",
    "\n",
    "    return (({\n",
    "        \"example\": np.array(x_train)\n",
    "    }, np.array(y_train)), ({\n",
    "        \"example\": np.array(x_tests)\n",
    "    }, np.array(y_tests)), ({\n",
    "        \"example\": np.array(x_targets)\n",
    "    }, np.array(y_targets)))"
   ]
  },
  {
   "cell_type": "markdown",
   "metadata": {},
   "source": [
    "### Define tower models, decoder, and preprocessor"
   ]
  },
  {
   "cell_type": "code",
   "execution_count": null,
   "metadata": {},
   "outputs": [],
   "source": [
    "def simple_fashion_mnist_tower_model():\n",
    "    \"\"\"A simple tower model for fashion mnist dataset.\n",
    "\n",
    "    Returns:\n",
    "        model: A tensorflow model that returns a 100-dimensional embedding.\n",
    "    \"\"\"\n",
    "\n",
    "    i = Input(shape=(28, 28, 1), name=\"example\")\n",
    "    o = Conv2D(\n",
    "        32,\n",
    "        kernel_size=(5, 5),\n",
    "        padding='same',\n",
    "        activation='relu',\n",
    "        input_shape=(28, 28, 1))(i)\n",
    "    o = Conv2D(\n",
    "        32,\n",
    "        kernel_size=(5, 5),\n",
    "        padding='same',\n",
    "        activation='relu',\n",
    "        input_shape=(28, 28, 1))(i)\n",
    "    o = MaxPooling2D(pool_size=(2, 2))(o)\n",
    "    o = Dropout(.25)(o)\n",
    "\n",
    "    o = Conv2D(64, (3, 3), padding='same', activation='relu')(o)\n",
    "    o = Conv2D(64, (3, 3), padding='same', activation='relu')(o)\n",
    "    o = MaxPooling2D(pool_size=(2, 2))(o)\n",
    "    o = Dropout(.25)(o)\n",
    "\n",
    "    o = Flatten()(o)\n",
    "    o = Dense(256, activation=\"relu\")(o)\n",
    "    o = Dropout(.25)(o)\n",
    "    o = Dense(100)(o)\n",
    "    model = Model(inputs=i, outputs=o)\n",
    "    return model"
   ]
  },
  {
   "cell_type": "code",
   "execution_count": null,
   "metadata": {},
   "outputs": [],
   "source": [
    "class Normalize(Preprocessing):\n",
    "    \"\"\"A Preprocessing class that normalize the fashion MNIST example inputs.\"\"\"\n",
    "\n",
    "    def preprocess(self, img):\n",
    "        \"\"\"Normalize and reshape the input images.\"\"\"\n",
    "\n",
    "        normed = img[\"example\"] / 255.0\n",
    "        normed = normed.reshape((28, 28, 1))\n",
    "        out = {\"example\": normed}\n",
    "        return out"
   ]
  },
  {
   "cell_type": "markdown",
   "metadata": {},
   "source": [
    "### Helper methods"
   ]
  },
  {
   "cell_type": "code",
   "execution_count": null,
   "metadata": {},
   "outputs": [],
   "source": [
    "def display_metrics(test_metrics):\n",
    "    unpacked_test_metrics = sorted([(i[0], i[1]) for i in six.iteritems(test_metrics)])\n",
    "    print(\"\")\n",
    "    print(\"TEST\")\n",
    "    print(tabulate.tabulate(unpacked_test_metrics, [\"Metric\", \"Value\"]))"
   ]
  },
  {
   "cell_type": "markdown",
   "metadata": {},
   "source": [
    "## Example usage 1: basic usage"
   ]
  },
  {
   "cell_type": "code",
   "execution_count": null,
   "metadata": {},
   "outputs": [],
   "source": [
    "def run_fashion_mnist_example(data, model, strategy, epochs):\n",
    "    \"\"\"An example usage of tf.similarity on fashion MNIST example.\n",
    "\n",
    "    This basic similarity run will first unpackage training,\n",
    "    testing, and target data from the arguments and then construct a\n",
    "    simple moirai model, fit the model with training data, then\n",
    "    evaluate our model with training and testing datasets.\n",
    "\n",
    "    Args:\n",
    "        data: Sets, contains training, testing, and target datasets.\n",
    "        model: tf.Model, the tower model to fit into moirai.\n",
    "        strategy: String, specify the strategy to use for learning similarity.\n",
    "        epochs: Integer, number of epochs to fit our moirai model.\n",
    "\n",
    "    Returns:\n",
    "        metrics: Dictionary, containing metrics performed on the\n",
    "            testing dataset. The key is the name of the metric and the\n",
    "            value is the np array of the metric values.\n",
    "    \"\"\"\n",
    "\n",
    "    # unpackage data\n",
    "    (x_train, y_train), (x_test, y_test), (x_targets, y_targets) = data\n",
    "\n",
    "    moirai = SimHash(\n",
    "        model,\n",
    "        preprocessing=Normalize(),\n",
    "        strategy=strategy,\n",
    "        optimizer=Adam(lr=.001),\n",
    "        hard_mining_directory=tempfile.mkdtemp())\n",
    "\n",
    "    moirai.fit(\n",
    "        x_train,\n",
    "        y_train,\n",
    "        epochs=epochs)\n",
    "\n",
    "    metrics = moirai.evaluate(x_test, y_test, x_targets, y_targets)\n",
    "    return metrics"
   ]
  },
  {
   "cell_type": "code",
   "execution_count": null,
   "metadata": {
    "scrolled": true
   },
   "outputs": [],
   "source": [
    "data = read_fashion_mnist_data()\n",
    "model = simple_fashion_mnist_tower_model()\n",
    "# Strategy we want to use.\n",
    "strategy = \"stable_hard_quadruplet_loss\"\n",
    "# Number of epochs\n",
    "epochs = 5\n",
    "\n",
    "test_metrics = run_fashion_mnist_example(data, model, strategy, epochs)"
   ]
  },
  {
   "cell_type": "code",
   "execution_count": null,
   "metadata": {},
   "outputs": [],
   "source": [
    "display_metrics(test_metrics)"
   ]
  },
  {
   "cell_type": "markdown",
   "metadata": {},
   "source": [
    "## Example usage 2: With Visualization Callback\n"
   ]
  },
  {
   "cell_type": "code",
   "execution_count": null,
   "metadata": {},
   "outputs": [],
   "source": [
    "# additional imports\n",
    "import datetime\n",
    "from tensorflow_similarity.api.callbacks.metrics_callbacks import MetricsCallback\n",
    "from tensorflow_similarity.api.callbacks.plugins import ConfusionMatrixCallbackPlugin\n",
    "from tensorflow_similarity.api.callbacks.plugins import ClosestItemsCallbackPlugin"
   ]
  },
  {
   "cell_type": "code",
   "execution_count": null,
   "metadata": {},
   "outputs": [],
   "source": [
    "# Load the TensorBoard notebook extension\n",
    "%load_ext tensorboard"
   ]
  },
  {
   "cell_type": "code",
   "execution_count": null,
   "metadata": {},
   "outputs": [],
   "source": [
    "# Uncomment and run the below line to clear any logs from previous runs\n",
    "!rm -rf ./logs/"
   ]
  },
  {
   "cell_type": "code",
   "execution_count": null,
   "metadata": {},
   "outputs": [],
   "source": [
    "def similarity_run_with_visualization(data, model, strategy, epochs):\n",
    "    \"\"\"An example usage of tf.similarity on fashion MNIST example.\n",
    "\n",
    "    This basic similarity run will first unpackage training,\n",
    "    testing, and target data from the arguments and then construct a\n",
    "    simple moirai model, fit the model with training data, then\n",
    "    evaluate our model with training and testing datasets.\n",
    "\n",
    "    Args:\n",
    "        data: Sets, contains training, testing, and target datasets.\n",
    "        model: tf.Model, the tower model to fit into moirai.\n",
    "        strategy: String, specify the strategy to use for learning similarity.\n",
    "        epochs: Integer, number of epochs to fit our moirai model.\n",
    "\n",
    "    Returns:\n",
    "        metrics: Dictionary, containing metrics performed on the\n",
    "            testing dataset. The key is the name of the metric and the\n",
    "            value is the np array of the metric values.\n",
    "    \"\"\"\n",
    "\n",
    "    # unpackage data\n",
    "    (x_train, y_train), (x_test, y_test), (x_targets, y_targets) = data\n",
    "    \n",
    "    log_dir=\"logs/\" + datetime.datetime.now().strftime(\"%Y%m%d-%H%M%S\")\n",
    "    confusion_matrix_log_dir = log_dir + \"/confusion_matrix\"\n",
    "    closest_items_log_dir = LOG_DIR + \"/closest_items\"\n",
    "    \n",
    "    confusion_matrix_plugin = ConfusionMatrixCallbackPlugin(confusion_matrix_log_dir)\n",
    "    closest_items_plugin = ClosestItemsCallbackPlugin(closest_items_log_dir)\n",
    "\n",
    "    metrics_callbacks = MetricsCallback(\n",
    "        [confusion_matrix_plugin, closest_items_plugin],\n",
    "        x_test,\n",
    "        y_test,\n",
    "        x_targets,\n",
    "        y_targets)\n",
    "    \n",
    "    callbacks = [metrics_callbacks]\n",
    "\n",
    "    moirai = SimHash(\n",
    "        model,\n",
    "        preprocessing=Normalize(),\n",
    "        strategy=strategy,\n",
    "        optimizer=Adam(lr=.001),\n",
    "        hard_mining_directory=tempfile.mkdtemp())\n",
    "\n",
    "    moirai.fit(\n",
    "        x_train,\n",
    "        y_train,\n",
    "        epochs=epochs,\n",
    "        callbacks=callbacks)\n",
    "\n",
    "    metrics = moirai.evaluate(x_test, y_test, x_targets, y_targets)\n",
    "    return metrics"
   ]
  },
  {
   "cell_type": "code",
   "execution_count": null,
   "metadata": {},
   "outputs": [],
   "source": [
    "data = read_fashion_mnist_data()\n",
    "model = simple_fashion_mnist_tower_model()\n",
    "# Strategy we want to use.\n",
    "strategy = \"stable_hard_quadruplet_loss\"\n",
    "# Number of epochs\n",
    "epochs = 5\n",
    "\n",
    "test_metrics = similarity_run_with_visualization(data, model, strategy, epochs)"
   ]
  },
  {
   "cell_type": "code",
   "execution_count": null,
   "metadata": {},
   "outputs": [],
   "source": [
    "%tensorboard --logdir logs"
   ]
  },
  {
   "cell_type": "code",
   "execution_count": null,
   "metadata": {},
   "outputs": [],
   "source": [
    "display_metrics(test_metrics)"
   ]
  },
  {
   "cell_type": "code",
   "execution_count": null,
   "metadata": {},
   "outputs": [],
   "source": []
  }
 ],
 "metadata": {
  "kernelspec": {
   "display_name": "Python 3",
   "language": "python",
   "name": "python3"
  },
  "language_info": {
   "codemirror_mode": {
    "name": "ipython",
    "version": 3
   },
   "file_extension": ".py",
   "mimetype": "text/x-python",
   "name": "python",
   "nbconvert_exporter": "python",
   "pygments_lexer": "ipython3",
   "version": "3.6.8"
  }
 },
 "nbformat": 4,
 "nbformat_minor": 2
}
