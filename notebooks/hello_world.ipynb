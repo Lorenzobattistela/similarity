{
 "cells": [
  {
   "cell_type": "markdown",
   "metadata": {},
   "source": [
    "\n",
    "\n",
    "What's differentiate metric learning from traditional classification is that we train the model to learn a compact representation\n",
    "\n",
    "how to have examples of the same classes to be close together and the one f\n",
    "\n",
    "\n",
    "References\n",
    "- Original paper:\n",
    "FaceNet: A Unified Embedding for Face Recognition and Clustering\n",
    "https://arxiv.org/abs/1503.03832 \n",
    "\n",
    "- Mining strategies:\n",
    "https://openaccess.thecvf.com/content_WACV_2020/papers/Xuan_Improved_Embeddings_with_Easy_Positive_Triplet_Mining_WACV_2020_paper.pdf \n"
   ]
  },
  {
   "cell_type": "code",
   "execution_count": 1,
   "metadata": {},
   "outputs": [],
   "source": [
    " %load_ext autoreload\n",
    " %autoreload 2"
   ]
  },
  {
   "cell_type": "code",
   "execution_count": 2,
   "metadata": {},
   "outputs": [],
   "source": [
    "import numpy as np\n",
    "import tensorflow as tf\n",
    "from tensorflow.keras import layers\n",
    "from tensorflow.keras.models import Model\n",
    "from tensorflow.keras.optimizers import Adam\n",
    "from tensorflow.keras.callbacks import  TensorBoard\n",
    "# from tqdm.auto import tqdm\n",
    "from time import  time\n",
    "from tabulate import  tabulate"
   ]
  },
  {
   "cell_type": "code",
   "execution_count": 3,
   "metadata": {},
   "outputs": [],
   "source": [
    "from tensorflow_similarity.utils import tf_cap_memory\n",
    "from tensorflow_similarity.losses import TripletLoss\n",
    "from tensorflow_similarity.layers import MetricEmbedding\n",
    "from tensorflow_similarity.model import SimilarityModel"
   ]
  },
  {
   "cell_type": "code",
   "execution_count": 4,
   "metadata": {},
   "outputs": [
    {
     "output_type": "stream",
     "name": "stdout",
     "text": [
      "2.3.1\n"
     ]
    }
   ],
   "source": [
    "tf_cap_memory()\n",
    "print(tf.__version__)"
   ]
  },
  {
   "cell_type": "markdown",
   "metadata": {},
   "source": [
    "# preparing data\n",
    "\n",
    "Note: Tensorflow similarity expect y_train to be the examples class as integer so there is no need for processing"
   ]
  },
  {
   "cell_type": "code",
   "execution_count": null,
   "metadata": {},
   "outputs": [],
   "source": [
    "# FIXME sampler here and select only half of the class"
   ]
  },
  {
   "cell_type": "code",
   "execution_count": 5,
   "metadata": {},
   "outputs": [
    {
     "output_type": "stream",
     "name": "stdout",
     "text": [
      "x_train (60000, 28, 28)\ny_train (60000,)\n"
     ]
    }
   ],
   "source": [
    "(x_train, y_train), (x_test, y_test) = tf.keras.datasets.mnist.load_data()\n",
    "\n",
    "x_train = tf.constant(x_train / 255.0)\n",
    "x_test = tf.constant(x_test / 255.0)\n",
    "print('x_train', x_train.shape)\n",
    "print('y_train', y_train.shape)"
   ]
  },
  {
   "cell_type": "markdown",
   "metadata": {},
   "source": [
    "# model creation"
   ]
  },
  {
   "cell_type": "code",
   "execution_count": 6,
   "metadata": {},
   "outputs": [
    {
     "output_type": "stream",
     "name": "stdout",
     "text": [
      "Model: \"similarity_model\"\n_________________________________________________________________\nLayer (type)                 Output Shape              Param #   \n=================================================================\ninput_1 (InputLayer)         [(None, 28, 28)]          0         \n_________________________________________________________________\nreshape (Reshape)            (None, 28, 28, 1)         0         \n_________________________________________________________________\nconv2d (Conv2D)              (None, 26, 26, 16)        160       \n_________________________________________________________________\nconv2d_1 (Conv2D)            (None, 24, 24, 32)        4640      \n_________________________________________________________________\nmax_pooling2d (MaxPooling2D) (None, 12, 12, 32)        0         \n_________________________________________________________________\nflatten (Flatten)            (None, 4608)              0         \n_________________________________________________________________\ndense (Dense)                (None, 128)               589952    \n_________________________________________________________________\nmetric_embedding (MetricEmbe (None, 10)                1290      \n=================================================================\nTotal params: 596,042\nTrainable params: 596,042\nNon-trainable params: 0\n_________________________________________________________________\n"
     ]
    }
   ],
   "source": [
    "def get_model():\n",
    "    tf.keras.backend.clear_session()\n",
    "    inputs = tf.keras.layers.Input(shape=(28,28))\n",
    "    x = layers.Reshape((28,28,1))(inputs)\n",
    "    x = layers.Conv2D(16, 3, activation='relu')(x)\n",
    "    x = layers.Conv2D(32, 3, activation='relu')(x)\n",
    "    x = layers.MaxPooling2D(pool_size=(2, 2))(x)\n",
    "    x = layers.Flatten()(x)\n",
    "    x = layers.Dense(128, activation='relu')(x)\n",
    "    outputs = MetricEmbedding(10)(x)\n",
    "    # outputs2 = MetricEmbedding(10)(x)\n",
    "    return SimilarityModel(inputs, outputs)\n",
    "model = get_model()\n",
    "model.summary()"
   ]
  },
  {
   "cell_type": "markdown",
   "metadata": {},
   "source": [
    "# Compilation"
   ]
  },
  {
   "cell_type": "code",
   "execution_count": 8,
   "metadata": {
    "scrolled": false
   },
   "outputs": [
    {
     "output_type": "stream",
     "name": "stdout",
     "text": [
      "7500/7500 [==============================] - 12s 2ms/step - loss: 0.1379 - val_loss: 0.0623\n"
     ]
    }
   ],
   "source": [
    "\n",
    "distance = 'cosine' #@param [\"cosine\"]{allow-input: false}\n",
    "positive_mining_strategy = 'hard' #@param [\"easy\", \"hard\"]{allow-input: false}\n",
    "negative_mining_strategy = 'hard' #@param [\"easy\", \"hard\"]{allow-input: false}\n",
    "triplet_loss = TripletLoss(distance=distance,\n",
    "    positive_mining_strategy=positive_mining_strategy,\n",
    "    negative_mining_strategy=negative_mining_strategy, name='tfs', margin=1)\n",
    "\n",
    "callbacks = [TensorBoard(log_dir='logs/%s' % int(time()), update_freq='batch')]\n",
    "callbacks  = []\n",
    "\n",
    "model = get_model()\n",
    "# model.compile(optimizer='adam', loss=triplet_loss)\n",
    "history = model.compile(optimizer='adam', loss=triplet_loss)\n",
    "\n",
    "\n",
    "EPOCHS = 1 #@param{Integer}\n",
    "BATCH_SIZE = 8 #@param{Integer}\n",
    "history = model.fit(x_train, y_train, validation_data=(x_test, y_test), batch_size=BATCH_SIZE, epochs=EPOCHS, callbacks=callbacks)"
   ]
  },
  {
   "cell_type": "markdown",
   "metadata": {},
   "source": [
    "# Training"
   ]
  },
  {
   "cell_type": "code",
   "execution_count": null,
   "metadata": {},
   "outputs": [],
   "source": [
    "from tensorflow_similarity import metrics\n",
    "semi = TripletLoss(distance=distance,\n",
    "    positive_mining_strategy='hard',\n",
    "    negative_mining_strategy='semi-hard')"
   ]
  },
  {
   "cell_type": "code",
   "execution_count": null,
   "metadata": {
    "scrolled": true
   },
   "outputs": [],
   "source": [
    "for i in range(1, len(x_train), BATCH_SIZE):\n",
    "    s= i + BATCH_SIZE\n",
    "    x = x_train[i:s]\n",
    "    y = y_train[i:s]\n",
    "    preds = model.predict(x)\n",
    "    tla = tfa_loss_local(y, preds)\n",
    "    tl = triplet_loss(y, preds)\n",
    "    if tl != tla:\n",
    "        break\n",
    "print(tla, tl)"
   ]
  },
  {
   "cell_type": "code",
   "execution_count": null,
   "metadata": {},
   "outputs": [],
   "source": [
    "from tqdm.auto import tqdm"
   ]
  },
  {
   "cell_type": "code",
   "execution_count": null,
   "metadata": {},
   "outputs": [],
   "source": [
    "@tf.function\n",
    "def test_loss():\n",
    "    y = tf.random.uniform((BATCH_SIZE, ), 0, 10, dtype=tf.int32)\n",
    "    preds = tf.random.uniform((BATCH_SIZE, 10), 0, 1)\n",
    "    tl = triplet_loss(y, preds)\n",
    "    tla = tfa_loss_local(y, preds)\n",
    "    same = tf.cast(tl, tf.float16) != tf.cast(tla, tf.float16)\n",
    "    if not same:\n",
    "        print(tl)\n",
    "        print(tla)\n",
    "    return same, tl, tla, preds, y"
   ]
  },
  {
   "cell_type": "code",
   "execution_count": null,
   "metadata": {
    "scrolled": true
   },
   "outputs": [],
   "source": [
    "for i in tqdm(range(10000)):\n",
    "    same, tla, tl, preds, y = test_loss()\n",
    "    if not same:\n",
    "        print(tla)\n",
    "        print(tl)\n",
    "        print(y)\n",
    "        print(preds)\n",
    "        break"
   ]
  },
  {
   "cell_type": "code",
   "execution_count": null,
   "metadata": {},
   "outputs": [],
   "source": [
    "print(tla)\n",
    "print(tl)"
   ]
  },
  {
   "cell_type": "code",
   "execution_count": null,
   "metadata": {},
   "outputs": [],
   "source": [
    "print(float(tla), float(tl)) #, npl)"
   ]
  },
  {
   "cell_type": "code",
   "execution_count": null,
   "metadata": {},
   "outputs": [],
   "source": [
    "print(\"tl\", triplet_loss(y, preds))\n",
    "print(\"tfa\", tfa_loss_local(y, preds))"
   ]
  },
  {
   "cell_type": "code",
   "execution_count": null,
   "metadata": {},
   "outputs": [],
   "source": [
    "print(preds)"
   ]
  },
  {
   "cell_type": "code",
   "execution_count": null,
   "metadata": {},
   "outputs": [],
   "source": [
    "print(tfa.__version__)\n",
    "tal = tfa_local(y, preds, distance_metric='angular')\n",
    "ta = tfa.losses.triplet.triplet_hard_loss(y, preds, distance_metric='angular')\n",
    "print(ta, tal)"
   ]
  },
  {
   "cell_type": "code",
   "execution_count": null,
   "metadata": {},
   "outputs": [],
   "source": [
    "triplet_hard_loss_np(y, preds, 1.0, angular_distance_np)"
   ]
  }
 ],
 "metadata": {
  "kernelspec": {
   "display_name": "Python 3.6.7 64-bit",
   "language": "python",
   "name": "python36764bit1164f64651f442398f7288c44aeadef0"
  },
  "language_info": {
   "codemirror_mode": {
    "name": "ipython",
    "version": 3
   },
   "file_extension": ".py",
   "mimetype": "text/x-python",
   "name": "python",
   "nbconvert_exporter": "python",
   "pygments_lexer": "ipython3",
   "version": "3.6.7-candidate"
  }
 },
 "nbformat": 4,
 "nbformat_minor": 2
}