{
 "cells": [
  {
   "cell_type": "markdown",
   "metadata": {},
   "source": [
    "# Tensorflow Similarity Hello World\n",
    "\n",
    "[FIXME intro blurb]\n",
    "\n",
    "References\n",
    "- Original paper:\n",
    "FaceNet: A Unified Embedding for Face Recognition and Clustering\n",
    "https://arxiv.org/abs/1503.03832 \n",
    "\n",
    "- Mining strategies:\n",
    "https://openaccess.thecvf.com/content_WACV_2020/papers/Xuan_Improved_Embeddings_with_Easy_Positive_Triplet_Mining_WACV_2020_paper.pdf \n"
   ]
  },
  {
   "cell_type": "code",
   "execution_count": 1,
   "metadata": {},
   "outputs": [],
   "source": [
    " %load_ext autoreload\n",
    " %autoreload 2"
   ]
  },
  {
   "cell_type": "code",
   "execution_count": 2,
   "metadata": {},
   "outputs": [],
   "source": [
    "import numpy as np\n",
    "import tensorflow as tf\n",
    "from tensorflow.keras import layers\n",
    "from tensorflow.keras.models import Model\n",
    "from tensorflow.keras.optimizers import Adam\n",
    "from tensorflow.keras.callbacks import  TensorBoard\n",
    "# from tqdm.auto import tqdm\n",
    "from time import  time\n",
    "from tabulate import tabulate\n",
    "from matplotlib.pyplot import imshow\n",
    "from matplotlib import pyplot as plt"
   ]
  },
  {
   "cell_type": "code",
   "execution_count": 5,
   "metadata": {},
   "outputs": [],
   "source": [
    "from tensorflow_similarity.utils import tf_cap_memory\n",
    "from tensorflow_similarity.losses import TripletLoss\n",
    "from tensorflow_similarity.layers import MetricEmbedding\n",
    "from tensorflow_similarity.model import SimilarityModel\n",
    "from tensorflow_similarity.visualization import viz_neigbors_imgs"
   ]
  },
  {
   "cell_type": "code",
   "execution_count": 6,
   "metadata": {},
   "outputs": [
    {
     "output_type": "stream",
     "name": "stdout",
     "text": [
      "2.3.1\n"
     ]
    }
   ],
   "source": [
    "tf_cap_memory()\n",
    "print(tf.__version__)"
   ]
  },
  {
   "cell_type": "markdown",
   "metadata": {},
   "source": [
    "# Preparing data\n",
    "To demonstrate the ability of single-shot learning, we are going to train a model on even digit only but create\n",
    "an index that contains a few examples of both even and odd digits to show how the model is able to do matching on \n",
    "unseen classes with few examples.\n",
    "\n",
    "\n",
    "Note: Tensorflow similarity expect y_train to be the examples class as integer so there is no need for processing"
   ]
  },
  {
   "cell_type": "code",
   "execution_count": 7,
   "metadata": {},
   "outputs": [
    {
     "output_type": "stream",
     "name": "stdout",
     "text": [
      "(60000, 28, 28) (60000,)\n",
      "x_train_even (29492, 28, 28) <dtype: 'float32'>\n",
      "y_train_even (29492,) <dtype: 'uint8'>\n"
     ]
    }
   ],
   "source": [
    "(x_train, y_train), (x_test, y_test) = tf.keras.datasets.mnist.load_data()\n",
    "\n",
    "x_train = tf.constant(x_train / 255.0, dtype='float32')\n",
    "x_test = tf.constant(x_test / 255.0, dtype='float32')\n",
    "\n",
    "# keep only even digits for training\n",
    "idxs = []\n",
    "for idx in range(len(y_train)):\n",
    "    if not y_train[idx] % 2:\n",
    "        idxs.append(idx)\n",
    "x_train_even = tf.gather(x_train, idxs)\n",
    "y_train_even = tf.gather(y_train, idxs)\n",
    "print(x_train.shape, y_train.shape)\n",
    "print('x_train_even', x_train_even.shape, x_train_even.dtype)\n",
    "print('y_train_even', y_train_even.shape, y_train_even.dtype)"
   ]
  },
  {
   "cell_type": "code",
   "execution_count": null,
   "metadata": {},
   "outputs": [],
   "source": [
    "# FIXME sampler here and select only half of the class"
   ]
  },
  {
   "cell_type": "markdown",
   "metadata": {},
   "source": [
    "# model creation"
   ]
  },
  {
   "cell_type": "code",
   "execution_count": 8,
   "metadata": {},
   "outputs": [
    {
     "output_type": "stream",
     "name": "stdout",
     "text": [
      "Model: \"similarity_model\"\n",
      "_________________________________________________________________\n",
      "Layer (type)                 Output Shape              Param #   \n",
      "=================================================================\n",
      "input_1 (InputLayer)         [(None, 28, 28)]          0         \n",
      "_________________________________________________________________\n",
      "reshape (Reshape)            (None, 28, 28, 1)         0         \n",
      "_________________________________________________________________\n",
      "conv2d (Conv2D)              (None, 26, 26, 16)        160       \n",
      "_________________________________________________________________\n",
      "conv2d_1 (Conv2D)            (None, 24, 24, 32)        4640      \n",
      "_________________________________________________________________\n",
      "max_pooling2d (MaxPooling2D) (None, 12, 12, 32)        0         \n",
      "_________________________________________________________________\n",
      "flatten (Flatten)            (None, 4608)              0         \n",
      "_________________________________________________________________\n",
      "dense (Dense)                (None, 128)               589952    \n",
      "_________________________________________________________________\n",
      "metric_embedding (MetricEmbe (None, 10)                1290      \n",
      "=================================================================\n",
      "Total params: 596,042\n",
      "Trainable params: 596,042\n",
      "Non-trainable params: 0\n",
      "_________________________________________________________________\n"
     ]
    }
   ],
   "source": [
    "def get_model():\n",
    "    tf.keras.backend.clear_session()\n",
    "    inputs = tf.keras.layers.Input(shape=(28,28))\n",
    "    x = layers.Reshape((28,28,1))(inputs)\n",
    "    x = layers.Conv2D(16, 3, activation='relu')(x)\n",
    "    x = layers.Conv2D(32, 3, activation='relu')(x)\n",
    "    x = layers.MaxPooling2D(pool_size=(2, 2))(x)\n",
    "    x = layers.Flatten()(x)\n",
    "    x = layers.Dense(128, activation='relu')(x)\n",
    "    outputs = MetricEmbedding(10)(x)\n",
    "    # outputs2 = MetricEmbedding(10)(x)\n",
    "    return SimilarityModel(inputs, outputs)\n",
    "model = get_model()\n",
    "model.summary()"
   ]
  },
  {
   "source": [
    "# Loss definition\n",
    "\n",
    "Overall Similarity losses (aka metric losses) are similar to other losses except they expect different inputs.\n",
    "\n",
    "For triplet loss, one of the most popular one, you need to decide what type of triplet mining you want. Usually `hard` mining for positive example and `semi-hard` mining work well and are the default. They are passed explicitly here for reference.\n",
    "\n",
    "The `distance` parameters specify which distance metric to use to compute the distance between embeddings. `cosine` is usually a great starting point and the default.\n"
   ],
   "cell_type": "markdown",
   "metadata": {}
  },
  {
   "cell_type": "code",
   "execution_count": 9,
   "metadata": {
    "scrolled": false
   },
   "outputs": [],
   "source": [
    "distance = 'cosine' #@param [\"cosine\"]{allow-input: false}\n",
    "positive_mining_strategy = 'hard' #@param [\"easy\", \"hard\"]{allow-input: false}\n",
    "negative_mining_strategy = 'semi-hard' #@param [\"easy\", \"hard\"]{allow-input: false}\n",
    "triplet_loss = TripletLoss(distance=distance,\n",
    "    positive_mining_strategy=positive_mining_strategy,\n",
    "    negative_mining_strategy=negative_mining_strategy)"
   ]
  },
  {
   "cell_type": "markdown",
   "metadata": {},
   "source": [
    "# Compilation\n",
    "\n",
    "Tensorflow similarity use an extended `compile()` method that allows you to specify distance_metrics (metrics that are computed over the distance between the embedding). \n",
    "\n",
    "By default the `compile()` method try to infers what type of distance you are using by looking at the fist loss specified. If you use multiples losses and the distance loss is not the first, then you need to specify the distance function used as `distance=` parameter in the compile function."
   ]
  },
  {
   "cell_type": "code",
   "execution_count": 10,
   "metadata": {},
   "outputs": [],
   "source": [
    "model = get_model()\n",
    "model.compile(optimizer='adam', loss=triplet_loss)"
   ]
  },
  {
   "cell_type": "markdown",
   "metadata": {},
   "source": [
    "# Training\n",
    "\n",
    "Similarity are trained like normal model. Don't expect the validation loss to decrease too much because we only use half of the class on the train data but all class in the validation."
   ]
  },
  {
   "cell_type": "code",
   "execution_count": 11,
   "metadata": {},
   "outputs": [
    {
     "output_type": "stream",
     "name": "stdout",
     "text": [
      "Epoch 1/2\n",
      "922/922 [==============================] - 2s 2ms/step - loss: 0.2704 - val_loss: 0.8196\n",
      "Epoch 2/2\n",
      "922/922 [==============================] - 2s 2ms/step - loss: 0.0895 - val_loss: 0.8187\n"
     ]
    }
   ],
   "source": [
    "EPOCHS = 2 #@param{Integer}\n",
    "BATCH_SIZE = 32 #@param{Integer}\n",
    "history = model.fit(x_train_even, y_train_even, validation_data=(x_test, y_test), batch_size=BATCH_SIZE, epochs=EPOCHS)"
   ]
  },
  {
   "cell_type": "code",
   "execution_count": 12,
   "metadata": {},
   "outputs": [
    {
     "output_type": "display_data",
     "data": {
      "text/plain": "<Figure size 432x288 with 1 Axes>",
      "image/svg+xml": "<?xml version=\"1.0\" encoding=\"utf-8\" standalone=\"no\"?>\r\n<!DOCTYPE svg PUBLIC \"-//W3C//DTD SVG 1.1//EN\"\r\n  \"http://www.w3.org/Graphics/SVG/1.1/DTD/svg11.dtd\">\r\n<!-- Created with matplotlib (https://matplotlib.org/) -->\r\n<svg height=\"263.63625pt\" version=\"1.1\" viewBox=\"0 0 372.103125 263.63625\" width=\"372.103125pt\" xmlns=\"http://www.w3.org/2000/svg\" xmlns:xlink=\"http://www.w3.org/1999/xlink\">\r\n <defs>\r\n  <style type=\"text/css\">\r\n*{stroke-linecap:butt;stroke-linejoin:round;}\r\n  </style>\r\n </defs>\r\n <g id=\"figure_1\">\r\n  <g id=\"patch_1\">\r\n   <path d=\"M 0 263.63625 \r\nL 372.103125 263.63625 \r\nL 372.103125 0 \r\nL 0 0 \r\nz\r\n\" style=\"fill:none;\"/>\r\n  </g>\r\n  <g id=\"axes_1\">\r\n   <g id=\"patch_2\">\r\n    <path d=\"M 30.103125 239.758125 \r\nL 364.903125 239.758125 \r\nL 364.903125 22.318125 \r\nL 30.103125 22.318125 \r\nz\r\n\" style=\"fill:#ffffff;\"/>\r\n   </g>\r\n   <g id=\"matplotlib.axis_1\">\r\n    <g id=\"xtick_1\">\r\n     <g id=\"line2d_1\">\r\n      <defs>\r\n       <path d=\"M 0 0 \r\nL 0 3.5 \r\n\" id=\"m5a355b1c85\" style=\"stroke:#000000;stroke-width:0.8;\"/>\r\n      </defs>\r\n      <g>\r\n       <use style=\"stroke:#000000;stroke-width:0.8;\" x=\"45.321307\" xlink:href=\"#m5a355b1c85\" y=\"239.758125\"/>\r\n      </g>\r\n     </g>\r\n     <g id=\"text_1\">\r\n      <!-- 0.0 -->\r\n      <defs>\r\n       <path d=\"M 31.78125 66.40625 \r\nQ 24.171875 66.40625 20.328125 58.90625 \r\nQ 16.5 51.421875 16.5 36.375 \r\nQ 16.5 21.390625 20.328125 13.890625 \r\nQ 24.171875 6.390625 31.78125 6.390625 \r\nQ 39.453125 6.390625 43.28125 13.890625 \r\nQ 47.125 21.390625 47.125 36.375 \r\nQ 47.125 51.421875 43.28125 58.90625 \r\nQ 39.453125 66.40625 31.78125 66.40625 \r\nz\r\nM 31.78125 74.21875 \r\nQ 44.046875 74.21875 50.515625 64.515625 \r\nQ 56.984375 54.828125 56.984375 36.375 \r\nQ 56.984375 17.96875 50.515625 8.265625 \r\nQ 44.046875 -1.421875 31.78125 -1.421875 \r\nQ 19.53125 -1.421875 13.0625 8.265625 \r\nQ 6.59375 17.96875 6.59375 36.375 \r\nQ 6.59375 54.828125 13.0625 64.515625 \r\nQ 19.53125 74.21875 31.78125 74.21875 \r\nz\r\n\" id=\"DejaVuSans-48\"/>\r\n       <path d=\"M 10.6875 12.40625 \r\nL 21 12.40625 \r\nL 21 0 \r\nL 10.6875 0 \r\nz\r\n\" id=\"DejaVuSans-46\"/>\r\n      </defs>\r\n      <g transform=\"translate(37.369744 254.356563)scale(0.1 -0.1)\">\r\n       <use xlink:href=\"#DejaVuSans-48\"/>\r\n       <use x=\"63.623047\" xlink:href=\"#DejaVuSans-46\"/>\r\n       <use x=\"95.410156\" xlink:href=\"#DejaVuSans-48\"/>\r\n      </g>\r\n     </g>\r\n    </g>\r\n    <g id=\"xtick_2\">\r\n     <g id=\"line2d_2\">\r\n      <g>\r\n       <use style=\"stroke:#000000;stroke-width:0.8;\" x=\"106.194034\" xlink:href=\"#m5a355b1c85\" y=\"239.758125\"/>\r\n      </g>\r\n     </g>\r\n     <g id=\"text_2\">\r\n      <!-- 0.2 -->\r\n      <defs>\r\n       <path d=\"M 19.1875 8.296875 \r\nL 53.609375 8.296875 \r\nL 53.609375 0 \r\nL 7.328125 0 \r\nL 7.328125 8.296875 \r\nQ 12.9375 14.109375 22.625 23.890625 \r\nQ 32.328125 33.6875 34.8125 36.53125 \r\nQ 39.546875 41.84375 41.421875 45.53125 \r\nQ 43.3125 49.21875 43.3125 52.78125 \r\nQ 43.3125 58.59375 39.234375 62.25 \r\nQ 35.15625 65.921875 28.609375 65.921875 \r\nQ 23.96875 65.921875 18.8125 64.3125 \r\nQ 13.671875 62.703125 7.8125 59.421875 \r\nL 7.8125 69.390625 \r\nQ 13.765625 71.78125 18.9375 73 \r\nQ 24.125 74.21875 28.421875 74.21875 \r\nQ 39.75 74.21875 46.484375 68.546875 \r\nQ 53.21875 62.890625 53.21875 53.421875 \r\nQ 53.21875 48.921875 51.53125 44.890625 \r\nQ 49.859375 40.875 45.40625 35.40625 \r\nQ 44.1875 33.984375 37.640625 27.21875 \r\nQ 31.109375 20.453125 19.1875 8.296875 \r\nz\r\n\" id=\"DejaVuSans-50\"/>\r\n      </defs>\r\n      <g transform=\"translate(98.242472 254.356563)scale(0.1 -0.1)\">\r\n       <use xlink:href=\"#DejaVuSans-48\"/>\r\n       <use x=\"63.623047\" xlink:href=\"#DejaVuSans-46\"/>\r\n       <use x=\"95.410156\" xlink:href=\"#DejaVuSans-50\"/>\r\n      </g>\r\n     </g>\r\n    </g>\r\n    <g id=\"xtick_3\">\r\n     <g id=\"line2d_3\">\r\n      <g>\r\n       <use style=\"stroke:#000000;stroke-width:0.8;\" x=\"167.066761\" xlink:href=\"#m5a355b1c85\" y=\"239.758125\"/>\r\n      </g>\r\n     </g>\r\n     <g id=\"text_3\">\r\n      <!-- 0.4 -->\r\n      <defs>\r\n       <path d=\"M 37.796875 64.3125 \r\nL 12.890625 25.390625 \r\nL 37.796875 25.390625 \r\nz\r\nM 35.203125 72.90625 \r\nL 47.609375 72.90625 \r\nL 47.609375 25.390625 \r\nL 58.015625 25.390625 \r\nL 58.015625 17.1875 \r\nL 47.609375 17.1875 \r\nL 47.609375 0 \r\nL 37.796875 0 \r\nL 37.796875 17.1875 \r\nL 4.890625 17.1875 \r\nL 4.890625 26.703125 \r\nz\r\n\" id=\"DejaVuSans-52\"/>\r\n      </defs>\r\n      <g transform=\"translate(159.115199 254.356563)scale(0.1 -0.1)\">\r\n       <use xlink:href=\"#DejaVuSans-48\"/>\r\n       <use x=\"63.623047\" xlink:href=\"#DejaVuSans-46\"/>\r\n       <use x=\"95.410156\" xlink:href=\"#DejaVuSans-52\"/>\r\n      </g>\r\n     </g>\r\n    </g>\r\n    <g id=\"xtick_4\">\r\n     <g id=\"line2d_4\">\r\n      <g>\r\n       <use style=\"stroke:#000000;stroke-width:0.8;\" x=\"227.939489\" xlink:href=\"#m5a355b1c85\" y=\"239.758125\"/>\r\n      </g>\r\n     </g>\r\n     <g id=\"text_4\">\r\n      <!-- 0.6 -->\r\n      <defs>\r\n       <path d=\"M 33.015625 40.375 \r\nQ 26.375 40.375 22.484375 35.828125 \r\nQ 18.609375 31.296875 18.609375 23.390625 \r\nQ 18.609375 15.53125 22.484375 10.953125 \r\nQ 26.375 6.390625 33.015625 6.390625 \r\nQ 39.65625 6.390625 43.53125 10.953125 \r\nQ 47.40625 15.53125 47.40625 23.390625 \r\nQ 47.40625 31.296875 43.53125 35.828125 \r\nQ 39.65625 40.375 33.015625 40.375 \r\nz\r\nM 52.59375 71.296875 \r\nL 52.59375 62.3125 \r\nQ 48.875 64.0625 45.09375 64.984375 \r\nQ 41.3125 65.921875 37.59375 65.921875 \r\nQ 27.828125 65.921875 22.671875 59.328125 \r\nQ 17.53125 52.734375 16.796875 39.40625 \r\nQ 19.671875 43.65625 24.015625 45.921875 \r\nQ 28.375 48.1875 33.59375 48.1875 \r\nQ 44.578125 48.1875 50.953125 41.515625 \r\nQ 57.328125 34.859375 57.328125 23.390625 \r\nQ 57.328125 12.15625 50.6875 5.359375 \r\nQ 44.046875 -1.421875 33.015625 -1.421875 \r\nQ 20.359375 -1.421875 13.671875 8.265625 \r\nQ 6.984375 17.96875 6.984375 36.375 \r\nQ 6.984375 53.65625 15.1875 63.9375 \r\nQ 23.390625 74.21875 37.203125 74.21875 \r\nQ 40.921875 74.21875 44.703125 73.484375 \r\nQ 48.484375 72.75 52.59375 71.296875 \r\nz\r\n\" id=\"DejaVuSans-54\"/>\r\n      </defs>\r\n      <g transform=\"translate(219.987926 254.356563)scale(0.1 -0.1)\">\r\n       <use xlink:href=\"#DejaVuSans-48\"/>\r\n       <use x=\"63.623047\" xlink:href=\"#DejaVuSans-46\"/>\r\n       <use x=\"95.410156\" xlink:href=\"#DejaVuSans-54\"/>\r\n      </g>\r\n     </g>\r\n    </g>\r\n    <g id=\"xtick_5\">\r\n     <g id=\"line2d_5\">\r\n      <g>\r\n       <use style=\"stroke:#000000;stroke-width:0.8;\" x=\"288.812216\" xlink:href=\"#m5a355b1c85\" y=\"239.758125\"/>\r\n      </g>\r\n     </g>\r\n     <g id=\"text_5\">\r\n      <!-- 0.8 -->\r\n      <defs>\r\n       <path d=\"M 31.78125 34.625 \r\nQ 24.75 34.625 20.71875 30.859375 \r\nQ 16.703125 27.09375 16.703125 20.515625 \r\nQ 16.703125 13.921875 20.71875 10.15625 \r\nQ 24.75 6.390625 31.78125 6.390625 \r\nQ 38.8125 6.390625 42.859375 10.171875 \r\nQ 46.921875 13.96875 46.921875 20.515625 \r\nQ 46.921875 27.09375 42.890625 30.859375 \r\nQ 38.875 34.625 31.78125 34.625 \r\nz\r\nM 21.921875 38.8125 \r\nQ 15.578125 40.375 12.03125 44.71875 \r\nQ 8.5 49.078125 8.5 55.328125 \r\nQ 8.5 64.0625 14.71875 69.140625 \r\nQ 20.953125 74.21875 31.78125 74.21875 \r\nQ 42.671875 74.21875 48.875 69.140625 \r\nQ 55.078125 64.0625 55.078125 55.328125 \r\nQ 55.078125 49.078125 51.53125 44.71875 \r\nQ 48 40.375 41.703125 38.8125 \r\nQ 48.828125 37.15625 52.796875 32.3125 \r\nQ 56.78125 27.484375 56.78125 20.515625 \r\nQ 56.78125 9.90625 50.3125 4.234375 \r\nQ 43.84375 -1.421875 31.78125 -1.421875 \r\nQ 19.734375 -1.421875 13.25 4.234375 \r\nQ 6.78125 9.90625 6.78125 20.515625 \r\nQ 6.78125 27.484375 10.78125 32.3125 \r\nQ 14.796875 37.15625 21.921875 38.8125 \r\nz\r\nM 18.3125 54.390625 \r\nQ 18.3125 48.734375 21.84375 45.5625 \r\nQ 25.390625 42.390625 31.78125 42.390625 \r\nQ 38.140625 42.390625 41.71875 45.5625 \r\nQ 45.3125 48.734375 45.3125 54.390625 \r\nQ 45.3125 60.0625 41.71875 63.234375 \r\nQ 38.140625 66.40625 31.78125 66.40625 \r\nQ 25.390625 66.40625 21.84375 63.234375 \r\nQ 18.3125 60.0625 18.3125 54.390625 \r\nz\r\n\" id=\"DejaVuSans-56\"/>\r\n      </defs>\r\n      <g transform=\"translate(280.860653 254.356563)scale(0.1 -0.1)\">\r\n       <use xlink:href=\"#DejaVuSans-48\"/>\r\n       <use x=\"63.623047\" xlink:href=\"#DejaVuSans-46\"/>\r\n       <use x=\"95.410156\" xlink:href=\"#DejaVuSans-56\"/>\r\n      </g>\r\n     </g>\r\n    </g>\r\n    <g id=\"xtick_6\">\r\n     <g id=\"line2d_6\">\r\n      <g>\r\n       <use style=\"stroke:#000000;stroke-width:0.8;\" x=\"349.684943\" xlink:href=\"#m5a355b1c85\" y=\"239.758125\"/>\r\n      </g>\r\n     </g>\r\n     <g id=\"text_6\">\r\n      <!-- 1.0 -->\r\n      <defs>\r\n       <path d=\"M 12.40625 8.296875 \r\nL 28.515625 8.296875 \r\nL 28.515625 63.921875 \r\nL 10.984375 60.40625 \r\nL 10.984375 69.390625 \r\nL 28.421875 72.90625 \r\nL 38.28125 72.90625 \r\nL 38.28125 8.296875 \r\nL 54.390625 8.296875 \r\nL 54.390625 0 \r\nL 12.40625 0 \r\nz\r\n\" id=\"DejaVuSans-49\"/>\r\n      </defs>\r\n      <g transform=\"translate(341.733381 254.356563)scale(0.1 -0.1)\">\r\n       <use xlink:href=\"#DejaVuSans-49\"/>\r\n       <use x=\"63.623047\" xlink:href=\"#DejaVuSans-46\"/>\r\n       <use x=\"95.410156\" xlink:href=\"#DejaVuSans-48\"/>\r\n      </g>\r\n     </g>\r\n    </g>\r\n   </g>\r\n   <g id=\"matplotlib.axis_2\">\r\n    <g id=\"ytick_1\">\r\n     <g id=\"line2d_7\">\r\n      <defs>\r\n       <path d=\"M 0 0 \r\nL -3.5 0 \r\n\" id=\"m419cf7a0e2\" style=\"stroke:#000000;stroke-width:0.8;\"/>\r\n      </defs>\r\n      <g>\r\n       <use style=\"stroke:#000000;stroke-width:0.8;\" x=\"30.103125\" xlink:href=\"#m419cf7a0e2\" y=\"227.043418\"/>\r\n      </g>\r\n     </g>\r\n     <g id=\"text_7\">\r\n      <!-- 0.1 -->\r\n      <g transform=\"translate(7.2 230.842637)scale(0.1 -0.1)\">\r\n       <use xlink:href=\"#DejaVuSans-48\"/>\r\n       <use x=\"63.623047\" xlink:href=\"#DejaVuSans-46\"/>\r\n       <use x=\"95.410156\" xlink:href=\"#DejaVuSans-49\"/>\r\n      </g>\r\n     </g>\r\n    </g>\r\n    <g id=\"ytick_2\">\r\n     <g id=\"line2d_8\">\r\n      <g>\r\n       <use style=\"stroke:#000000;stroke-width:0.8;\" x=\"30.103125\" xlink:href=\"#m419cf7a0e2\" y=\"199.968871\"/>\r\n      </g>\r\n     </g>\r\n     <g id=\"text_8\">\r\n      <!-- 0.2 -->\r\n      <g transform=\"translate(7.2 203.768089)scale(0.1 -0.1)\">\r\n       <use xlink:href=\"#DejaVuSans-48\"/>\r\n       <use x=\"63.623047\" xlink:href=\"#DejaVuSans-46\"/>\r\n       <use x=\"95.410156\" xlink:href=\"#DejaVuSans-50\"/>\r\n      </g>\r\n     </g>\r\n    </g>\r\n    <g id=\"ytick_3\">\r\n     <g id=\"line2d_9\">\r\n      <g>\r\n       <use style=\"stroke:#000000;stroke-width:0.8;\" x=\"30.103125\" xlink:href=\"#m419cf7a0e2\" y=\"172.894323\"/>\r\n      </g>\r\n     </g>\r\n     <g id=\"text_9\">\r\n      <!-- 0.3 -->\r\n      <defs>\r\n       <path d=\"M 40.578125 39.3125 \r\nQ 47.65625 37.796875 51.625 33 \r\nQ 55.609375 28.21875 55.609375 21.1875 \r\nQ 55.609375 10.40625 48.1875 4.484375 \r\nQ 40.765625 -1.421875 27.09375 -1.421875 \r\nQ 22.515625 -1.421875 17.65625 -0.515625 \r\nQ 12.796875 0.390625 7.625 2.203125 \r\nL 7.625 11.71875 \r\nQ 11.71875 9.328125 16.59375 8.109375 \r\nQ 21.484375 6.890625 26.8125 6.890625 \r\nQ 36.078125 6.890625 40.9375 10.546875 \r\nQ 45.796875 14.203125 45.796875 21.1875 \r\nQ 45.796875 27.640625 41.28125 31.265625 \r\nQ 36.765625 34.90625 28.71875 34.90625 \r\nL 20.21875 34.90625 \r\nL 20.21875 43.015625 \r\nL 29.109375 43.015625 \r\nQ 36.375 43.015625 40.234375 45.921875 \r\nQ 44.09375 48.828125 44.09375 54.296875 \r\nQ 44.09375 59.90625 40.109375 62.90625 \r\nQ 36.140625 65.921875 28.71875 65.921875 \r\nQ 24.65625 65.921875 20.015625 65.03125 \r\nQ 15.375 64.15625 9.8125 62.3125 \r\nL 9.8125 71.09375 \r\nQ 15.4375 72.65625 20.34375 73.4375 \r\nQ 25.25 74.21875 29.59375 74.21875 \r\nQ 40.828125 74.21875 47.359375 69.109375 \r\nQ 53.90625 64.015625 53.90625 55.328125 \r\nQ 53.90625 49.265625 50.4375 45.09375 \r\nQ 46.96875 40.921875 40.578125 39.3125 \r\nz\r\n\" id=\"DejaVuSans-51\"/>\r\n      </defs>\r\n      <g transform=\"translate(7.2 176.693542)scale(0.1 -0.1)\">\r\n       <use xlink:href=\"#DejaVuSans-48\"/>\r\n       <use x=\"63.623047\" xlink:href=\"#DejaVuSans-46\"/>\r\n       <use x=\"95.410156\" xlink:href=\"#DejaVuSans-51\"/>\r\n      </g>\r\n     </g>\r\n    </g>\r\n    <g id=\"ytick_4\">\r\n     <g id=\"line2d_10\">\r\n      <g>\r\n       <use style=\"stroke:#000000;stroke-width:0.8;\" x=\"30.103125\" xlink:href=\"#m419cf7a0e2\" y=\"145.819776\"/>\r\n      </g>\r\n     </g>\r\n     <g id=\"text_10\">\r\n      <!-- 0.4 -->\r\n      <g transform=\"translate(7.2 149.618994)scale(0.1 -0.1)\">\r\n       <use xlink:href=\"#DejaVuSans-48\"/>\r\n       <use x=\"63.623047\" xlink:href=\"#DejaVuSans-46\"/>\r\n       <use x=\"95.410156\" xlink:href=\"#DejaVuSans-52\"/>\r\n      </g>\r\n     </g>\r\n    </g>\r\n    <g id=\"ytick_5\">\r\n     <g id=\"line2d_11\">\r\n      <g>\r\n       <use style=\"stroke:#000000;stroke-width:0.8;\" x=\"30.103125\" xlink:href=\"#m419cf7a0e2\" y=\"118.745228\"/>\r\n      </g>\r\n     </g>\r\n     <g id=\"text_11\">\r\n      <!-- 0.5 -->\r\n      <defs>\r\n       <path d=\"M 10.796875 72.90625 \r\nL 49.515625 72.90625 \r\nL 49.515625 64.59375 \r\nL 19.828125 64.59375 \r\nL 19.828125 46.734375 \r\nQ 21.96875 47.46875 24.109375 47.828125 \r\nQ 26.265625 48.1875 28.421875 48.1875 \r\nQ 40.625 48.1875 47.75 41.5 \r\nQ 54.890625 34.8125 54.890625 23.390625 \r\nQ 54.890625 11.625 47.5625 5.09375 \r\nQ 40.234375 -1.421875 26.90625 -1.421875 \r\nQ 22.3125 -1.421875 17.546875 -0.640625 \r\nQ 12.796875 0.140625 7.71875 1.703125 \r\nL 7.71875 11.625 \r\nQ 12.109375 9.234375 16.796875 8.0625 \r\nQ 21.484375 6.890625 26.703125 6.890625 \r\nQ 35.15625 6.890625 40.078125 11.328125 \r\nQ 45.015625 15.765625 45.015625 23.390625 \r\nQ 45.015625 31 40.078125 35.4375 \r\nQ 35.15625 39.890625 26.703125 39.890625 \r\nQ 22.75 39.890625 18.8125 39.015625 \r\nQ 14.890625 38.140625 10.796875 36.28125 \r\nz\r\n\" id=\"DejaVuSans-53\"/>\r\n      </defs>\r\n      <g transform=\"translate(7.2 122.544447)scale(0.1 -0.1)\">\r\n       <use xlink:href=\"#DejaVuSans-48\"/>\r\n       <use x=\"63.623047\" xlink:href=\"#DejaVuSans-46\"/>\r\n       <use x=\"95.410156\" xlink:href=\"#DejaVuSans-53\"/>\r\n      </g>\r\n     </g>\r\n    </g>\r\n    <g id=\"ytick_6\">\r\n     <g id=\"line2d_12\">\r\n      <g>\r\n       <use style=\"stroke:#000000;stroke-width:0.8;\" x=\"30.103125\" xlink:href=\"#m419cf7a0e2\" y=\"91.670681\"/>\r\n      </g>\r\n     </g>\r\n     <g id=\"text_12\">\r\n      <!-- 0.6 -->\r\n      <g transform=\"translate(7.2 95.469899)scale(0.1 -0.1)\">\r\n       <use xlink:href=\"#DejaVuSans-48\"/>\r\n       <use x=\"63.623047\" xlink:href=\"#DejaVuSans-46\"/>\r\n       <use x=\"95.410156\" xlink:href=\"#DejaVuSans-54\"/>\r\n      </g>\r\n     </g>\r\n    </g>\r\n    <g id=\"ytick_7\">\r\n     <g id=\"line2d_13\">\r\n      <g>\r\n       <use style=\"stroke:#000000;stroke-width:0.8;\" x=\"30.103125\" xlink:href=\"#m419cf7a0e2\" y=\"64.596133\"/>\r\n      </g>\r\n     </g>\r\n     <g id=\"text_13\">\r\n      <!-- 0.7 -->\r\n      <defs>\r\n       <path d=\"M 8.203125 72.90625 \r\nL 55.078125 72.90625 \r\nL 55.078125 68.703125 \r\nL 28.609375 0 \r\nL 18.3125 0 \r\nL 43.21875 64.59375 \r\nL 8.203125 64.59375 \r\nz\r\n\" id=\"DejaVuSans-55\"/>\r\n      </defs>\r\n      <g transform=\"translate(7.2 68.395352)scale(0.1 -0.1)\">\r\n       <use xlink:href=\"#DejaVuSans-48\"/>\r\n       <use x=\"63.623047\" xlink:href=\"#DejaVuSans-46\"/>\r\n       <use x=\"95.410156\" xlink:href=\"#DejaVuSans-55\"/>\r\n      </g>\r\n     </g>\r\n    </g>\r\n    <g id=\"ytick_8\">\r\n     <g id=\"line2d_14\">\r\n      <g>\r\n       <use style=\"stroke:#000000;stroke-width:0.8;\" x=\"30.103125\" xlink:href=\"#m419cf7a0e2\" y=\"37.521586\"/>\r\n      </g>\r\n     </g>\r\n     <g id=\"text_14\">\r\n      <!-- 0.8 -->\r\n      <g transform=\"translate(7.2 41.320804)scale(0.1 -0.1)\">\r\n       <use xlink:href=\"#DejaVuSans-48\"/>\r\n       <use x=\"63.623047\" xlink:href=\"#DejaVuSans-46\"/>\r\n       <use x=\"95.410156\" xlink:href=\"#DejaVuSans-56\"/>\r\n      </g>\r\n     </g>\r\n    </g>\r\n   </g>\r\n   <g id=\"line2d_15\">\r\n    <path clip-path=\"url(#p124341756a)\" d=\"M 45.321307 180.900477 \r\nL 349.684943 229.874489 \r\n\" style=\"fill:none;stroke:#1f77b4;stroke-linecap:square;stroke-width:1.5;\"/>\r\n   </g>\r\n   <g id=\"line2d_16\">\r\n    <path clip-path=\"url(#p124341756a)\" d=\"M 45.321307 32.201761 \r\nL 349.684943 32.461869 \r\n\" style=\"fill:none;stroke:#ff7f0e;stroke-linecap:square;stroke-width:1.5;\"/>\r\n   </g>\r\n   <g id=\"patch_3\">\r\n    <path d=\"M 30.103125 239.758125 \r\nL 30.103125 22.318125 \r\n\" style=\"fill:none;stroke:#000000;stroke-linecap:square;stroke-linejoin:miter;stroke-width:0.8;\"/>\r\n   </g>\r\n   <g id=\"patch_4\">\r\n    <path d=\"M 364.903125 239.758125 \r\nL 364.903125 22.318125 \r\n\" style=\"fill:none;stroke:#000000;stroke-linecap:square;stroke-linejoin:miter;stroke-width:0.8;\"/>\r\n   </g>\r\n   <g id=\"patch_5\">\r\n    <path d=\"M 30.103125 239.758125 \r\nL 364.903125 239.758125 \r\n\" style=\"fill:none;stroke:#000000;stroke-linecap:square;stroke-linejoin:miter;stroke-width:0.8;\"/>\r\n   </g>\r\n   <g id=\"patch_6\">\r\n    <path d=\"M 30.103125 22.318125 \r\nL 364.903125 22.318125 \r\n\" style=\"fill:none;stroke:#000000;stroke-linecap:square;stroke-linejoin:miter;stroke-width:0.8;\"/>\r\n   </g>\r\n   <g id=\"text_15\">\r\n    <!-- Loss -->\r\n    <defs>\r\n     <path d=\"M 9.8125 72.90625 \r\nL 19.671875 72.90625 \r\nL 19.671875 8.296875 \r\nL 55.171875 8.296875 \r\nL 55.171875 0 \r\nL 9.8125 0 \r\nz\r\n\" id=\"DejaVuSans-76\"/>\r\n     <path d=\"M 30.609375 48.390625 \r\nQ 23.390625 48.390625 19.1875 42.75 \r\nQ 14.984375 37.109375 14.984375 27.296875 \r\nQ 14.984375 17.484375 19.15625 11.84375 \r\nQ 23.34375 6.203125 30.609375 6.203125 \r\nQ 37.796875 6.203125 41.984375 11.859375 \r\nQ 46.1875 17.53125 46.1875 27.296875 \r\nQ 46.1875 37.015625 41.984375 42.703125 \r\nQ 37.796875 48.390625 30.609375 48.390625 \r\nz\r\nM 30.609375 56 \r\nQ 42.328125 56 49.015625 48.375 \r\nQ 55.71875 40.765625 55.71875 27.296875 \r\nQ 55.71875 13.875 49.015625 6.21875 \r\nQ 42.328125 -1.421875 30.609375 -1.421875 \r\nQ 18.84375 -1.421875 12.171875 6.21875 \r\nQ 5.515625 13.875 5.515625 27.296875 \r\nQ 5.515625 40.765625 12.171875 48.375 \r\nQ 18.84375 56 30.609375 56 \r\nz\r\n\" id=\"DejaVuSans-111\"/>\r\n     <path d=\"M 44.28125 53.078125 \r\nL 44.28125 44.578125 \r\nQ 40.484375 46.53125 36.375 47.5 \r\nQ 32.28125 48.484375 27.875 48.484375 \r\nQ 21.1875 48.484375 17.84375 46.4375 \r\nQ 14.5 44.390625 14.5 40.28125 \r\nQ 14.5 37.15625 16.890625 35.375 \r\nQ 19.28125 33.59375 26.515625 31.984375 \r\nL 29.59375 31.296875 \r\nQ 39.15625 29.25 43.1875 25.515625 \r\nQ 47.21875 21.78125 47.21875 15.09375 \r\nQ 47.21875 7.46875 41.1875 3.015625 \r\nQ 35.15625 -1.421875 24.609375 -1.421875 \r\nQ 20.21875 -1.421875 15.453125 -0.5625 \r\nQ 10.6875 0.296875 5.421875 2 \r\nL 5.421875 11.28125 \r\nQ 10.40625 8.6875 15.234375 7.390625 \r\nQ 20.0625 6.109375 24.8125 6.109375 \r\nQ 31.15625 6.109375 34.5625 8.28125 \r\nQ 37.984375 10.453125 37.984375 14.40625 \r\nQ 37.984375 18.0625 35.515625 20.015625 \r\nQ 33.0625 21.96875 24.703125 23.78125 \r\nL 21.578125 24.515625 \r\nQ 13.234375 26.265625 9.515625 29.90625 \r\nQ 5.8125 33.546875 5.8125 39.890625 \r\nQ 5.8125 47.609375 11.28125 51.796875 \r\nQ 16.75 56 26.8125 56 \r\nQ 31.78125 56 36.171875 55.265625 \r\nQ 40.578125 54.546875 44.28125 53.078125 \r\nz\r\n\" id=\"DejaVuSans-115\"/>\r\n    </defs>\r\n    <g transform=\"translate(184.3425 16.318125)scale(0.12 -0.12)\">\r\n     <use xlink:href=\"#DejaVuSans-76\"/>\r\n     <use x=\"53.962891\" xlink:href=\"#DejaVuSans-111\"/>\r\n     <use x=\"115.144531\" xlink:href=\"#DejaVuSans-115\"/>\r\n     <use x=\"167.244141\" xlink:href=\"#DejaVuSans-115\"/>\r\n    </g>\r\n   </g>\r\n   <g id=\"legend_1\">\r\n    <g id=\"patch_7\">\r\n     <path d=\"M 37.103125 234.758125 \r\nL 108.24375 234.758125 \r\nQ 110.24375 234.758125 110.24375 232.758125 \r\nL 110.24375 204.12375 \r\nQ 110.24375 202.12375 108.24375 202.12375 \r\nL 37.103125 202.12375 \r\nQ 35.103125 202.12375 35.103125 204.12375 \r\nL 35.103125 232.758125 \r\nQ 35.103125 234.758125 37.103125 234.758125 \r\nz\r\n\" style=\"fill:#ffffff;opacity:0.8;stroke:#cccccc;stroke-linejoin:miter;\"/>\r\n    </g>\r\n    <g id=\"line2d_17\">\r\n     <path d=\"M 39.103125 210.222188 \r\nL 59.103125 210.222188 \r\n\" style=\"fill:none;stroke:#1f77b4;stroke-linecap:square;stroke-width:1.5;\"/>\r\n    </g>\r\n    <g id=\"line2d_18\"/>\r\n    <g id=\"text_16\">\r\n     <!-- loss -->\r\n     <defs>\r\n      <path d=\"M 9.421875 75.984375 \r\nL 18.40625 75.984375 \r\nL 18.40625 0 \r\nL 9.421875 0 \r\nz\r\n\" id=\"DejaVuSans-108\"/>\r\n     </defs>\r\n     <g transform=\"translate(67.103125 213.722188)scale(0.1 -0.1)\">\r\n      <use xlink:href=\"#DejaVuSans-108\"/>\r\n      <use x=\"27.783203\" xlink:href=\"#DejaVuSans-111\"/>\r\n      <use x=\"88.964844\" xlink:href=\"#DejaVuSans-115\"/>\r\n      <use x=\"141.064453\" xlink:href=\"#DejaVuSans-115\"/>\r\n     </g>\r\n    </g>\r\n    <g id=\"line2d_19\">\r\n     <path d=\"M 39.103125 224.900313 \r\nL 59.103125 224.900313 \r\n\" style=\"fill:none;stroke:#ff7f0e;stroke-linecap:square;stroke-width:1.5;\"/>\r\n    </g>\r\n    <g id=\"line2d_20\"/>\r\n    <g id=\"text_17\">\r\n     <!-- val_loss -->\r\n     <defs>\r\n      <path d=\"M 2.984375 54.6875 \r\nL 12.5 54.6875 \r\nL 29.59375 8.796875 \r\nL 46.6875 54.6875 \r\nL 56.203125 54.6875 \r\nL 35.6875 0 \r\nL 23.484375 0 \r\nz\r\n\" id=\"DejaVuSans-118\"/>\r\n      <path d=\"M 34.28125 27.484375 \r\nQ 23.390625 27.484375 19.1875 25 \r\nQ 14.984375 22.515625 14.984375 16.5 \r\nQ 14.984375 11.71875 18.140625 8.90625 \r\nQ 21.296875 6.109375 26.703125 6.109375 \r\nQ 34.1875 6.109375 38.703125 11.40625 \r\nQ 43.21875 16.703125 43.21875 25.484375 \r\nL 43.21875 27.484375 \r\nz\r\nM 52.203125 31.203125 \r\nL 52.203125 0 \r\nL 43.21875 0 \r\nL 43.21875 8.296875 \r\nQ 40.140625 3.328125 35.546875 0.953125 \r\nQ 30.953125 -1.421875 24.3125 -1.421875 \r\nQ 15.921875 -1.421875 10.953125 3.296875 \r\nQ 6 8.015625 6 15.921875 \r\nQ 6 25.140625 12.171875 29.828125 \r\nQ 18.359375 34.515625 30.609375 34.515625 \r\nL 43.21875 34.515625 \r\nL 43.21875 35.40625 \r\nQ 43.21875 41.609375 39.140625 45 \r\nQ 35.0625 48.390625 27.6875 48.390625 \r\nQ 23 48.390625 18.546875 47.265625 \r\nQ 14.109375 46.140625 10.015625 43.890625 \r\nL 10.015625 52.203125 \r\nQ 14.9375 54.109375 19.578125 55.046875 \r\nQ 24.21875 56 28.609375 56 \r\nQ 40.484375 56 46.34375 49.84375 \r\nQ 52.203125 43.703125 52.203125 31.203125 \r\nz\r\n\" id=\"DejaVuSans-97\"/>\r\n      <path d=\"M 50.984375 -16.609375 \r\nL 50.984375 -23.578125 \r\nL -0.984375 -23.578125 \r\nL -0.984375 -16.609375 \r\nz\r\n\" id=\"DejaVuSans-95\"/>\r\n     </defs>\r\n     <g transform=\"translate(67.103125 228.400313)scale(0.1 -0.1)\">\r\n      <use xlink:href=\"#DejaVuSans-118\"/>\r\n      <use x=\"59.179688\" xlink:href=\"#DejaVuSans-97\"/>\r\n      <use x=\"120.458984\" xlink:href=\"#DejaVuSans-108\"/>\r\n      <use x=\"148.242188\" xlink:href=\"#DejaVuSans-95\"/>\r\n      <use x=\"198.242188\" xlink:href=\"#DejaVuSans-108\"/>\r\n      <use x=\"226.025391\" xlink:href=\"#DejaVuSans-111\"/>\r\n      <use x=\"287.207031\" xlink:href=\"#DejaVuSans-115\"/>\r\n      <use x=\"339.306641\" xlink:href=\"#DejaVuSans-115\"/>\r\n     </g>\r\n    </g>\r\n   </g>\r\n  </g>\r\n </g>\r\n <defs>\r\n  <clipPath id=\"p124341756a\">\r\n   <rect height=\"217.44\" width=\"334.8\" x=\"30.103125\" y=\"22.318125\"/>\r\n  </clipPath>\r\n </defs>\r\n</svg>\r\n",
      "image/png": "[encoded data removed]"
     },
     "metadata": {
      "needs_background": "light"
     }
    }
   ],
   "source": [
    "# let's visualizing loss overtime\n",
    "plt.plot(history.history['loss'])\n",
    "plt.plot(history.history['val_loss'])\n",
    "plt.legend(['loss', 'val_loss'])\n",
    "plt.title('Loss')\n",
    "plt.show()"
   ]
  },
  {
   "source": [
    "# Indexing\n",
    "\n",
    "Indexing is where things get different from traditional classification models. Because the model learned to output an embedding that represent the example position in a metric space and not a classification, we need a way to find which known example(s) are the closest to determine the class of the incoming data (aka nearest neighboors classication).\n",
    "\n",
    "To do so we need to create an index of known example from the 10 digits class. We do this by taking 100 examples from the train dataset which is about 10 examples for each digit and use the `index()` funtion of the model to build the index."
   ],
   "cell_type": "markdown",
   "metadata": {}
  },
  {
   "cell_type": "code",
   "execution_count": 13,
   "metadata": {},
   "outputs": [
    {
     "output_type": "display_data",
     "data": {
      "text/plain": "HBox(children=(IntProgress(value=0, description='Storing embeddings', max=10, style=ProgressStyle(description_…",
      "application/vnd.jupyter.widget-view+json": {
       "version_major": 2,
       "version_minor": 0,
       "model_id": "e58a37470af446a1a3b2744e73a6c4c4"
      }
     },
     "metadata": {}
    },
    {
     "output_type": "stream",
     "name": "stdout",
     "text": [
      "\n"
     ]
    }
   ],
   "source": [
    "num_embeddings = 10\n",
    "model.index(x_train[:num_embeddings], y_train[:num_embeddings])\n"
   ]
  },
  {
   "source": [
    "# Querying\n",
    "\n",
    "To \"classify\" our testing data, we need for each testing example to look for its nearest neighbors in our index. To do this we are using the `lookup()` function that compute the embeddings thanks to the model trained and then query them in the index. \n",
    "\n",
    "Note Tensorflow Similarity is very fast, so we can lookup the entire x_test dataset at once in a fraction of second on a modern CPU/GPU. However you can also query a single example if you prefers with the `single_lookup()` function."
   ],
   "cell_type": "markdown",
   "metadata": {}
  },
  {
   "cell_type": "code",
   "execution_count": 52,
   "metadata": {},
   "outputs": [
    {
     "output_type": "stream",
     "name": "stdout",
     "text": [
      "here:1605228755\n"
     ]
    }
   ],
   "source": [
    "# query the closest points in our index for ALL 10000 test examples\n",
    "num_neighboors = 5\n",
    "neighboors = model.lookup(x_test[:1000], k=num_neighboors, threads=1)"
   ]
  },
  {
   "source": [
    "Let's now look at how efficient our model is at matching unseen classes during training and very few data points in the index. Vary the `example_id` to see how well the indexer did on various points"
   ],
   "cell_type": "markdown",
   "metadata": {}
  },
  {
   "cell_type": "code",
   "execution_count": 72,
   "metadata": {},
   "outputs": [
    {
     "output_type": "stream",
     "name": "stdout",
     "text": [
      "expected label:  6\n",
      "\n",
      "[Nearest embeddings]\n",
      "\n",
      "[0.33959680795669556, 0.08865565, 0.0016329288482666016, 0.3808692693710327, 0.012588859]\n",
      "[0.0016329288482666016, 0.012588859, 0.08865565, 0.33959680795669556, 0.3808692693710327]\n"
     ]
    },
    {
     "output_type": "execute_result",
     "data": {
      "text/plain": [
       "<tf.Tensor: shape=(1, 5), dtype=float32, numpy=\n",
       "array([[1.0900358, 1.0940673, 1.1608416, 1.1620609, 1.1939428]],\n",
       "      dtype=float32)>"
      ]
     },
     "metadata": {},
     "execution_count": 72
    }
   ],
   "source": [
    "from operator import itemgetter\n",
    "from tensorflow_similarity.metrics import cosine\n",
    "# display results\n",
    "example_id = 680\n",
    "\n",
    "print('expected label: ', y_test[example_id])\n",
    "print('\\n[Nearest embeddings]\\n')\n",
    "\n",
    "ngbs = neighboors[example_id]\n",
    "\n",
    "distances = [n['distance'] for n in ngbs]\n",
    "print(distances)\n",
    "\n",
    "\n",
    "ngbs2 = sorted(ngbs, key=itemgetter('distance'))\n",
    "print([n['distance'] for n in ngbs2])\n",
    "\n",
    "embedding = model.predict(tf.expand_dims(x_test[example_id], axis=0))[0]\n",
    "\n",
    "\n",
    "ngb_embs = [n['embedding'] for n in ngbs]\n",
    "cosine(tf.expand_dims(embedding, axis=0), tf.constant(ngb_embs))\n",
    "\n"
   ]
  },
  {
   "cell_type": "code",
   "execution_count": 56,
   "metadata": {},
   "outputs": [
    {
     "output_type": "stream",
     "name": "stdout",
     "text": [
      "[0.012588859, 0.08865565, 0.582642, 1.1487384, 1.1588581]\n",
      "  label    distances\n",
      "-------  -----------\n",
      "      2    0.0125889\n",
      "      1    0.0886557\n",
      "      3    0.582642\n",
      "      4    1.14874\n",
      "      4    1.15886 \n",
      "\n"
     ]
    }
   ],
   "source": [
    "\n",
    "distances = [n['distance'] for n in ngbs]\n",
    "print(distances)\n",
    "\n",
    "\n",
    "rows = [[n['label'], n['distance']] for n in ngbs]\n",
    "print(tabulate(rows, headers=['label', 'distances']), '\\n')\n",
    "# viz_neigbors_imgs(x_test[example_id], y_test[example_id], ngbs)"
   ]
  },
  {
   "cell_type": "code",
   "execution_count": 73,
   "metadata": {},
   "outputs": [
    {
     "output_type": "stream",
     "name": "stdout",
     "text": [
      "[1.0900358, 1.0940673, 1.1608416, 1.1620609, 1.1939428]\n"
     ]
    },
    {
     "output_type": "display_data",
     "data": {
      "text/plain": "<Figure size 1728x432 with 6 Axes>",
      "image/svg+xml": "<?xml version=\"1.0\" encoding=\"utf-8\" standalone=\"no\"?>\r\n<!DOCTYPE svg PUBLIC \"-//W3C//DTD SVG 1.1//EN\"\r\n  \"http://www.w3.org/Graphics/SVG/1.1/DTD/svg11.dtd\">\r\n<!-- Created with matplotlib (https://matplotlib.org/) -->\r\n<svg height=\"224.332411pt\" version=\"1.1\" viewBox=\"0 0 1357.1 224.332411\" width=\"1357.1pt\" xmlns=\"http://www.w3.org/2000/svg\" xmlns:xlink=\"http://www.w3.org/1999/xlink\">\r\n <defs>\r\n  <style type=\"text/css\">\r\n*{stroke-linecap:butt;stroke-linejoin:round;}\r\n  </style>\r\n </defs>\r\n <g id=\"figure_1\">\r\n  <g id=\"patch_1\">\r\n   <path d=\"M 0 224.332411 \r\nL 1357.1 224.332411 \r\nL 1357.1 0 \r\nL 0 0 \r\nz\r\n\" style=\"fill:none;\"/>\r\n  </g>\r\n  <g id=\"axes_1\">\r\n   <g id=\"patch_2\">\r\n    <path d=\"M 10.7 213.632411 \r\nL 202.014286 213.632411 \r\nL 202.014286 22.318125 \r\nL 10.7 22.318125 \r\nz\r\n\" style=\"fill:#ffffff;\"/>\r\n   </g>\r\n   <g clip-path=\"url(#p8a07fc6fe5)\">\r\n    <image height=\"192\" id=\"imagedc21f9d26e\" transform=\"scale(1 -1)translate(0 -192)\" width=\"192\" x=\"10.7\" xlink:href=\"data:image/png;base64,\r\niVBORw0KGgoAAAANSUhEUgAAAMAAAADACAYAAABS3GwHAAAABHNCSVQICAgIfAhkiAAABSlJREFUeJzt3S9IM3Ecx/HbM0FNG9ahINjEP2GYRKOighMNYpjRYLCoSTELJgXtWmwKK2ISUQTBIJgEg2CwOQQFZWNP9uG+v2c7b39un/cr3pcdPwZvfvDjbot5nlfyAFF/6r0AoJ4IANIIANIIANIIANIIANIIANIIANIIANIIANIIANIIANIIANIIANIIANIIANIIANIIANIIANIIANIIANIIANIIANIIANIIANIIANIIANIIANIIANIIANIIANIIANIIANIIANIIANIIANIIANIIANIIANIIANIIANIIANIIANIIANIIANIIANIIANJa6r2ARpRMJn2vz83NmZ/Z3d01Z21tbeYsFouZs1KpZM7e39/N2erqqjmzfH9/m7PDw8OK7xcV7ACQRgCQRgCQRgCQRgCQRgCQFvM8zz5ri7i1tTVzNjs7a86sY8v+/v5fr6lRFYtFc3Z3d2fONjY2zNnr66s5e3h4KG9hVcYOAGkEAGkEAGkEAGkEAGkEAGlN/TRoV1eXORsaGqrhShpfPB43Z67v6vz83Jx9fX2Zs/b29vIWVmXsAJBGAJBGAJBGAJBGAJBGAJDW1MegUeB6Kf7l5cWcXVxcmLO+vj7f67V+mrW1tdWc5XI5c5bNZn2vv729/XpN/2IHgDQCgDQCgDQCgDQCgLTInwL19PSYs0wmU8OVBOP6+UPXA2OdnZ3mLJFI/GpNteB6UM71M41hYweANAKANAKANAKANAKANAKAtMgfgy4uLpqzVCpVw5WEr6Ojw5yNjIzUcCXBFAoFc3ZwcGDOPj4+qrEcX+wAkEYAkEYAkEYAkEYAkEYAkBb5Y9CxsbHQ7zk5Oel7/ebmJtD9XEe1rj+8npiYMGeu922npqbKW1gI9vb2zNnW1pY5y+fz1VhOxdgBII0AII0AII0AII0AII0AIC3yf5R9e3trztLpdKB7Wk9aXl1dBbpfNbiOQUdHR2u2juvra3NWy6c6g2IHgDQCgDQCgDQCgDQCgDQCgLTIPw2qyvXbmq4/r8ZP7ACQRgCQRgCQRgCQRgCQRgCQFvlj0Pv7e3MW9GnQwcFB3+uN9DQowsEOAGkEAGkEAGkEAGkEAGkEAGmRfym+t7fXnLlemHf9C/vT05Pv9YGBAfMzn5+f5gyNix0A0ggA0ggA0ggA0ggA0iJ/CuTi+veS5eXliu93dnZmzmZmZsyZ6/1d1Bc7AKQRAKQRAKQRAKQRAKQRAKRF/p1gl8fHR3NWKtmnv7FYzPf6+Pi4+RnXP7ZwDNq42AEgjQAgjQAgjQAgjQAgjQAgramfBnXZ2dkxZysrK77X4/G4+ZnNzU1ztr29bc4KhYI5Q/WxA0AaAUAaAUAaAUAaAUAaAUCa7DGoy+Xlpe/14eHhQPdzHbmur68HuifCwQ4AaQQAaQQAaQQAaQQAaQQAaRyD+rB+UzSTyZifSaVS5uz5+dmcdXd3l78whI4dANIIANIIANIIANIIANIIANI4Bq1AOp02Z9YTpJ7necVi0Zxls1lzdnp6as5cv22K8rEDQBoBQBoBQBoBQBoBQBoBQBrHoCE5OTkxZ9PT04HuubCwYM6Oj48D3RM/sQNAGgFAGgFAGgFAGgFAGqdAIUkmk+Zsf3/fnM3Pz5uzXC5nzoKeLOEndgBIIwBIIwBIIwBIIwBIIwBIa6n3AppFPp83Z0tLS+YskUiYs6Ojo1+tCf/HDgBpBABpBABpBABpBABpBABpPA0KaewAkEYAkEYAkEYAkEYAkEYAkPYXebTIlFY2LAcAAAAASUVORK5CYII=\" y=\"-21.632411\"/>\r\n   </g>\r\n   <g id=\"matplotlib.axis_1\"/>\r\n   <g id=\"matplotlib.axis_2\"/>\r\n   <g id=\"patch_3\">\r\n    <path d=\"M 10.7 213.632411 \r\nL 10.7 22.318125 \r\n\" style=\"fill:none;stroke:#000000;stroke-linecap:square;stroke-linejoin:miter;stroke-width:0.8;\"/>\r\n   </g>\r\n   <g id=\"patch_4\">\r\n    <path d=\"M 202.014286 213.632411 \r\nL 202.014286 22.318125 \r\n\" style=\"fill:none;stroke:#000000;stroke-linecap:square;stroke-linejoin:miter;stroke-width:0.8;\"/>\r\n   </g>\r\n   <g id=\"patch_5\">\r\n    <path d=\"M 10.7 213.632411 \r\nL 202.014286 213.632411 \r\n\" style=\"fill:none;stroke:#000000;stroke-linecap:square;stroke-linejoin:miter;stroke-width:0.8;\"/>\r\n   </g>\r\n   <g id=\"patch_6\">\r\n    <path d=\"M 10.7 22.318125 \r\nL 202.014286 22.318125 \r\n\" style=\"fill:none;stroke:#000000;stroke-linecap:square;stroke-linejoin:miter;stroke-width:0.8;\"/>\r\n   </g>\r\n   <g id=\"text_1\">\r\n    <!-- target lbl:6 -->\r\n    <defs>\r\n     <path d=\"M 18.3125 70.21875 \r\nL 18.3125 54.6875 \r\nL 36.8125 54.6875 \r\nL 36.8125 47.703125 \r\nL 18.3125 47.703125 \r\nL 18.3125 18.015625 \r\nQ 18.3125 11.328125 20.140625 9.421875 \r\nQ 21.96875 7.515625 27.59375 7.515625 \r\nL 36.8125 7.515625 \r\nL 36.8125 0 \r\nL 27.59375 0 \r\nQ 17.1875 0 13.234375 3.875 \r\nQ 9.28125 7.765625 9.28125 18.015625 \r\nL 9.28125 47.703125 \r\nL 2.6875 47.703125 \r\nL 2.6875 54.6875 \r\nL 9.28125 54.6875 \r\nL 9.28125 70.21875 \r\nz\r\n\" id=\"DejaVuSans-116\"/>\r\n     <path d=\"M 34.28125 27.484375 \r\nQ 23.390625 27.484375 19.1875 25 \r\nQ 14.984375 22.515625 14.984375 16.5 \r\nQ 14.984375 11.71875 18.140625 8.90625 \r\nQ 21.296875 6.109375 26.703125 6.109375 \r\nQ 34.1875 6.109375 38.703125 11.40625 \r\nQ 43.21875 16.703125 43.21875 25.484375 \r\nL 43.21875 27.484375 \r\nz\r\nM 52.203125 31.203125 \r\nL 52.203125 0 \r\nL 43.21875 0 \r\nL 43.21875 8.296875 \r\nQ 40.140625 3.328125 35.546875 0.953125 \r\nQ 30.953125 -1.421875 24.3125 -1.421875 \r\nQ 15.921875 -1.421875 10.953125 3.296875 \r\nQ 6 8.015625 6 15.921875 \r\nQ 6 25.140625 12.171875 29.828125 \r\nQ 18.359375 34.515625 30.609375 34.515625 \r\nL 43.21875 34.515625 \r\nL 43.21875 35.40625 \r\nQ 43.21875 41.609375 39.140625 45 \r\nQ 35.0625 48.390625 27.6875 48.390625 \r\nQ 23 48.390625 18.546875 47.265625 \r\nQ 14.109375 46.140625 10.015625 43.890625 \r\nL 10.015625 52.203125 \r\nQ 14.9375 54.109375 19.578125 55.046875 \r\nQ 24.21875 56 28.609375 56 \r\nQ 40.484375 56 46.34375 49.84375 \r\nQ 52.203125 43.703125 52.203125 31.203125 \r\nz\r\n\" id=\"DejaVuSans-97\"/>\r\n     <path d=\"M 41.109375 46.296875 \r\nQ 39.59375 47.171875 37.8125 47.578125 \r\nQ 36.03125 48 33.890625 48 \r\nQ 26.265625 48 22.1875 43.046875 \r\nQ 18.109375 38.09375 18.109375 28.8125 \r\nL 18.109375 0 \r\nL 9.078125 0 \r\nL 9.078125 54.6875 \r\nL 18.109375 54.6875 \r\nL 18.109375 46.1875 \r\nQ 20.953125 51.171875 25.484375 53.578125 \r\nQ 30.03125 56 36.53125 56 \r\nQ 37.453125 56 38.578125 55.875 \r\nQ 39.703125 55.765625 41.0625 55.515625 \r\nz\r\n\" id=\"DejaVuSans-114\"/>\r\n     <path d=\"M 45.40625 27.984375 \r\nQ 45.40625 37.75 41.375 43.109375 \r\nQ 37.359375 48.484375 30.078125 48.484375 \r\nQ 22.859375 48.484375 18.828125 43.109375 \r\nQ 14.796875 37.75 14.796875 27.984375 \r\nQ 14.796875 18.265625 18.828125 12.890625 \r\nQ 22.859375 7.515625 30.078125 7.515625 \r\nQ 37.359375 7.515625 41.375 12.890625 \r\nQ 45.40625 18.265625 45.40625 27.984375 \r\nz\r\nM 54.390625 6.78125 \r\nQ 54.390625 -7.171875 48.1875 -13.984375 \r\nQ 42 -20.796875 29.203125 -20.796875 \r\nQ 24.46875 -20.796875 20.265625 -20.09375 \r\nQ 16.0625 -19.390625 12.109375 -17.921875 \r\nL 12.109375 -9.1875 \r\nQ 16.0625 -11.328125 19.921875 -12.34375 \r\nQ 23.78125 -13.375 27.78125 -13.375 \r\nQ 36.625 -13.375 41.015625 -8.765625 \r\nQ 45.40625 -4.15625 45.40625 5.171875 \r\nL 45.40625 9.625 \r\nQ 42.625 4.78125 38.28125 2.390625 \r\nQ 33.9375 0 27.875 0 \r\nQ 17.828125 0 11.671875 7.65625 \r\nQ 5.515625 15.328125 5.515625 27.984375 \r\nQ 5.515625 40.671875 11.671875 48.328125 \r\nQ 17.828125 56 27.875 56 \r\nQ 33.9375 56 38.28125 53.609375 \r\nQ 42.625 51.21875 45.40625 46.390625 \r\nL 45.40625 54.6875 \r\nL 54.390625 54.6875 \r\nz\r\n\" id=\"DejaVuSans-103\"/>\r\n     <path d=\"M 56.203125 29.59375 \r\nL 56.203125 25.203125 \r\nL 14.890625 25.203125 \r\nQ 15.484375 15.921875 20.484375 11.0625 \r\nQ 25.484375 6.203125 34.421875 6.203125 \r\nQ 39.59375 6.203125 44.453125 7.46875 \r\nQ 49.3125 8.734375 54.109375 11.28125 \r\nL 54.109375 2.78125 \r\nQ 49.265625 0.734375 44.1875 -0.34375 \r\nQ 39.109375 -1.421875 33.890625 -1.421875 \r\nQ 20.796875 -1.421875 13.15625 6.1875 \r\nQ 5.515625 13.8125 5.515625 26.8125 \r\nQ 5.515625 40.234375 12.765625 48.109375 \r\nQ 20.015625 56 32.328125 56 \r\nQ 43.359375 56 49.78125 48.890625 \r\nQ 56.203125 41.796875 56.203125 29.59375 \r\nz\r\nM 47.21875 32.234375 \r\nQ 47.125 39.59375 43.09375 43.984375 \r\nQ 39.0625 48.390625 32.421875 48.390625 \r\nQ 24.90625 48.390625 20.390625 44.140625 \r\nQ 15.875 39.890625 15.1875 32.171875 \r\nz\r\n\" id=\"DejaVuSans-101\"/>\r\n     <path id=\"DejaVuSans-32\"/>\r\n     <path d=\"M 9.421875 75.984375 \r\nL 18.40625 75.984375 \r\nL 18.40625 0 \r\nL 9.421875 0 \r\nz\r\n\" id=\"DejaVuSans-108\"/>\r\n     <path d=\"M 48.6875 27.296875 \r\nQ 48.6875 37.203125 44.609375 42.84375 \r\nQ 40.53125 48.484375 33.40625 48.484375 \r\nQ 26.265625 48.484375 22.1875 42.84375 \r\nQ 18.109375 37.203125 18.109375 27.296875 \r\nQ 18.109375 17.390625 22.1875 11.75 \r\nQ 26.265625 6.109375 33.40625 6.109375 \r\nQ 40.53125 6.109375 44.609375 11.75 \r\nQ 48.6875 17.390625 48.6875 27.296875 \r\nz\r\nM 18.109375 46.390625 \r\nQ 20.953125 51.265625 25.265625 53.625 \r\nQ 29.59375 56 35.59375 56 \r\nQ 45.5625 56 51.78125 48.09375 \r\nQ 58.015625 40.1875 58.015625 27.296875 \r\nQ 58.015625 14.40625 51.78125 6.484375 \r\nQ 45.5625 -1.421875 35.59375 -1.421875 \r\nQ 29.59375 -1.421875 25.265625 0.953125 \r\nQ 20.953125 3.328125 18.109375 8.203125 \r\nL 18.109375 0 \r\nL 9.078125 0 \r\nL 9.078125 75.984375 \r\nL 18.109375 75.984375 \r\nz\r\n\" id=\"DejaVuSans-98\"/>\r\n     <path d=\"M 11.71875 12.40625 \r\nL 22.015625 12.40625 \r\nL 22.015625 0 \r\nL 11.71875 0 \r\nz\r\nM 11.71875 51.703125 \r\nL 22.015625 51.703125 \r\nL 22.015625 39.3125 \r\nL 11.71875 39.3125 \r\nz\r\n\" id=\"DejaVuSans-58\"/>\r\n     <path d=\"M 33.015625 40.375 \r\nQ 26.375 40.375 22.484375 35.828125 \r\nQ 18.609375 31.296875 18.609375 23.390625 \r\nQ 18.609375 15.53125 22.484375 10.953125 \r\nQ 26.375 6.390625 33.015625 6.390625 \r\nQ 39.65625 6.390625 43.53125 10.953125 \r\nQ 47.40625 15.53125 47.40625 23.390625 \r\nQ 47.40625 31.296875 43.53125 35.828125 \r\nQ 39.65625 40.375 33.015625 40.375 \r\nz\r\nM 52.59375 71.296875 \r\nL 52.59375 62.3125 \r\nQ 48.875 64.0625 45.09375 64.984375 \r\nQ 41.3125 65.921875 37.59375 65.921875 \r\nQ 27.828125 65.921875 22.671875 59.328125 \r\nQ 17.53125 52.734375 16.796875 39.40625 \r\nQ 19.671875 43.65625 24.015625 45.921875 \r\nQ 28.375 48.1875 33.59375 48.1875 \r\nQ 44.578125 48.1875 50.953125 41.515625 \r\nQ 57.328125 34.859375 57.328125 23.390625 \r\nQ 57.328125 12.15625 50.6875 5.359375 \r\nQ 44.046875 -1.421875 33.015625 -1.421875 \r\nQ 20.359375 -1.421875 13.671875 8.265625 \r\nQ 6.984375 17.96875 6.984375 36.375 \r\nQ 6.984375 53.65625 15.1875 63.9375 \r\nQ 23.390625 74.21875 37.203125 74.21875 \r\nQ 40.921875 74.21875 44.703125 73.484375 \r\nQ 48.484375 72.75 52.59375 71.296875 \r\nz\r\n\" id=\"DejaVuSans-54\"/>\r\n    </defs>\r\n    <g transform=\"translate(73.224955 16.318125)scale(0.12 -0.12)\">\r\n     <use xlink:href=\"#DejaVuSans-116\"/>\r\n     <use x=\"39.208984\" xlink:href=\"#DejaVuSans-97\"/>\r\n     <use x=\"100.488281\" xlink:href=\"#DejaVuSans-114\"/>\r\n     <use x=\"139.851562\" xlink:href=\"#DejaVuSans-103\"/>\r\n     <use x=\"203.328125\" xlink:href=\"#DejaVuSans-101\"/>\r\n     <use x=\"264.851562\" xlink:href=\"#DejaVuSans-116\"/>\r\n     <use x=\"304.060547\" xlink:href=\"#DejaVuSans-32\"/>\r\n     <use x=\"335.847656\" xlink:href=\"#DejaVuSans-108\"/>\r\n     <use x=\"363.630859\" xlink:href=\"#DejaVuSans-98\"/>\r\n     <use x=\"427.107422\" xlink:href=\"#DejaVuSans-108\"/>\r\n     <use x=\"454.890625\" xlink:href=\"#DejaVuSans-58\"/>\r\n     <use x=\"488.582031\" xlink:href=\"#DejaVuSans-54\"/>\r\n    </g>\r\n   </g>\r\n  </g>\r\n  <g id=\"axes_2\">\r\n   <g id=\"patch_7\">\r\n    <path d=\"M 240.277143 213.632411 \r\nL 431.591429 213.632411 \r\nL 431.591429 22.318125 \r\nL 240.277143 22.318125 \r\nz\r\n\" style=\"fill:#ffffff;\"/>\r\n   </g>\r\n   <g clip-path=\"url(#pde7729273a)\">\r\n    <image height=\"192\" id=\"image500af7a2db\" transform=\"scale(1 -1)translate(0 -192)\" width=\"192\" x=\"240.277143\" xlink:href=\"data:image/png;base64,\r\niVBORw0KGgoAAAANSUhEUgAAAMAAAADACAYAAABS3GwHAAAABHNCSVQICAgIfAhkiAAABbZJREFUeJzt3V9olXUcx3Efz45J2XSUCZXl0gu1tCIQLzIsuhm2urDRMAykaNWItiIikLSMWGsoXkgWGkkXWl0NiQLLjBRh5P9J1kU6o9LUrTlbZ3+fbrqK53PYec7xOX8+79fl8+XZ82P6Pj/4cc5ZEIa/hZMAU5OLvQCgmAgA1ggA1ggA1ggA1ggA1ggA1ggA1ggA1ggA1ggA1ggA1ggA1ggA1ggA1ggA1ggA1ggA1ggA1ggA1qqSfNjwpgfkrOX9swV/3oOzxuXssZW1cja5Kvp1oarpM/2w9MwJrwulgx0A1ggA1ggA1ggA1ggA1oIkvxoxPP+lnPW83iJnXxzLyNnJgSCvNeWiOq1nG5rmyFm6uVPfmJoef0HIGzsArBEArBEArBEArBEArBEArCV6DBrbyDk56nluuZx9e3JQzrp6k2t/9bwxOVva/qKcBQte0D80NS2fJeE/7ACwRgCwRgCwRgCwRgCwRgCwVh7HoHEN688Zh38ckLPPn3wt8vq+P5N9vWis1cenyzqa5Sy461UxSOW7pIrDDgBrBABrBABrBABrBABrBABrlX0MGtdQT+TlcPcr8paP2rvk7NBfyb7OrLw9+vj0oc2t8p5g4ctXazkljR0A1ggA1ggA1ggA1ggA1ggA1jgGLZBw4JCcXel4Xs627z4vZz9fKez3nqazvNw13a2HCz/9paDrKCXsALBGALBGALBGALBGALBGALDGMWiRhX3fy9n4znVydmrfaTnbcjT3f9K6W/QH8Ov3ntE3lvkH7dkBYI0AYI0AYI0AYI0AYI0AYI1j0ArUMn9O5PXhcX3PlCwvhZv2vCdnweyGCa6qNLEDwBoBwBoBwBoBwBoBwFpVsReALEYuyFH4w9v6thjnemsW6JvK/aQnG3YAWCMAWCMAWCMAWCMAWCMAWOMYtMjCPv0Hu088vUrOtnbn/rWJbU/MlLPqtbty/nmVgB0A1ggA1ggA1ggA1ggA1ggA1jgGTUB4ok3O1q/aKmcXhuL9hZgt6xZHXg8e36xvuqY21rPKHTsArBEArBEArBEArBEArBEArPHViAUSDh6XszeWPCpnN0/Vv/6G+6fL2Q0PL5KzYMUnYsDr3f/xG4E1AoA1AoA1AoA1AoA1AoA13g2ai7F+OTrSuELOLg3rPyb9Vud6OQvmrpnQshAfOwCsEQCsEQCsEQCsEQCsEQCscQyag8xGfdS57ZQ+6nxm/picBXc8ldeakB92AFgjAFgjAFgjAFgjAFgjAFjzPQYdvaRnqZrIy5mLg7Eede/aRj0M9PEprj52AFgjAFgjAFgjAFgjAFir6K9GDLvb5axvx045q1l+Z+T15tb9sdZRf6t+M1zdnm59Y0p/NWLYf1DO+t9pjrw+493D+lmm2AFgjQBgjQBgjQBgjQBgjQBgrfyPQUfOydHHy5bIWVdvabTfWKuPSG+ckZaz7cfH5exa8f66Dd1nJrosG6XxvwAoEgKANQKANQKANQKANQKAtbL/THB4+Uc5OzsYJLiSeHadzvaZYH3Umc2wuC08+JK+6bpZsZ416aZ7Yv3M4Pr74j2vwNgBYI0AYI0AYI0AYI0AYI0AYK383w2aTeYnOQrHMvq+Y9siL/d3HpC3XO79R87avtOzJC2q1v/UdYunyln7/iE5q5min/fIbfqdrks/2ChnwewG/UMLjB0A1ggA1ggA1ggA1ggA1ggA1ir7GDRJ4aiejV4s/ON2rJazkYHoY8tfj+ovEJj74Vdy9ntLvZy9+c3fcjYtyxtdO1rnyVnw7Nf6xgJjB4A1AoA1AoA1AoA1AoA1AoA1jkFhjR0A1ggA1ggA1ggA1ggA1ggA1ggA1ggA1ggA1ggA1ggA1ggA1ggA1ggA1ggA1ggA1ggA1ggA1ggA1ggA1ggA1ggA1ggA1ggA1ggA1ggA1ggA1ggA1ggA1ggA1ggA1ggA1ggA1v4Fvy4IxcTyR/EAAAAASUVORK5CYII=\" y=\"-21.632411\"/>\r\n   </g>\r\n   <g id=\"matplotlib.axis_3\"/>\r\n   <g id=\"matplotlib.axis_4\"/>\r\n   <g id=\"patch_8\">\r\n    <path d=\"M 240.277143 213.632411 \r\nL 240.277143 22.318125 \r\n\" style=\"fill:none;stroke:#000000;stroke-linecap:square;stroke-linejoin:miter;stroke-width:0.8;\"/>\r\n   </g>\r\n   <g id=\"patch_9\">\r\n    <path d=\"M 431.591429 213.632411 \r\nL 431.591429 22.318125 \r\n\" style=\"fill:none;stroke:#000000;stroke-linecap:square;stroke-linejoin:miter;stroke-width:0.8;\"/>\r\n   </g>\r\n   <g id=\"patch_10\">\r\n    <path d=\"M 240.277143 213.632411 \r\nL 431.591429 213.632411 \r\n\" style=\"fill:none;stroke:#000000;stroke-linecap:square;stroke-linejoin:miter;stroke-width:0.8;\"/>\r\n   </g>\r\n   <g id=\"patch_11\">\r\n    <path d=\"M 240.277143 22.318125 \r\nL 431.591429 22.318125 \r\n\" style=\"fill:none;stroke:#000000;stroke-linecap:square;stroke-linejoin:miter;stroke-width:0.8;\"/>\r\n   </g>\r\n   <g id=\"text_2\">\r\n    <!-- lbl:5 (d:1.0900) -->\r\n    <defs>\r\n     <path d=\"M 10.796875 72.90625 \r\nL 49.515625 72.90625 \r\nL 49.515625 64.59375 \r\nL 19.828125 64.59375 \r\nL 19.828125 46.734375 \r\nQ 21.96875 47.46875 24.109375 47.828125 \r\nQ 26.265625 48.1875 28.421875 48.1875 \r\nQ 40.625 48.1875 47.75 41.5 \r\nQ 54.890625 34.8125 54.890625 23.390625 \r\nQ 54.890625 11.625 47.5625 5.09375 \r\nQ 40.234375 -1.421875 26.90625 -1.421875 \r\nQ 22.3125 -1.421875 17.546875 -0.640625 \r\nQ 12.796875 0.140625 7.71875 1.703125 \r\nL 7.71875 11.625 \r\nQ 12.109375 9.234375 16.796875 8.0625 \r\nQ 21.484375 6.890625 26.703125 6.890625 \r\nQ 35.15625 6.890625 40.078125 11.328125 \r\nQ 45.015625 15.765625 45.015625 23.390625 \r\nQ 45.015625 31 40.078125 35.4375 \r\nQ 35.15625 39.890625 26.703125 39.890625 \r\nQ 22.75 39.890625 18.8125 39.015625 \r\nQ 14.890625 38.140625 10.796875 36.28125 \r\nz\r\n\" id=\"DejaVuSans-53\"/>\r\n     <path d=\"M 31 75.875 \r\nQ 24.46875 64.65625 21.28125 53.65625 \r\nQ 18.109375 42.671875 18.109375 31.390625 \r\nQ 18.109375 20.125 21.3125 9.0625 \r\nQ 24.515625 -2 31 -13.1875 \r\nL 23.1875 -13.1875 \r\nQ 15.875 -1.703125 12.234375 9.375 \r\nQ 8.59375 20.453125 8.59375 31.390625 \r\nQ 8.59375 42.28125 12.203125 53.3125 \r\nQ 15.828125 64.359375 23.1875 75.875 \r\nz\r\n\" id=\"DejaVuSans-40\"/>\r\n     <path d=\"M 45.40625 46.390625 \r\nL 45.40625 75.984375 \r\nL 54.390625 75.984375 \r\nL 54.390625 0 \r\nL 45.40625 0 \r\nL 45.40625 8.203125 \r\nQ 42.578125 3.328125 38.25 0.953125 \r\nQ 33.9375 -1.421875 27.875 -1.421875 \r\nQ 17.96875 -1.421875 11.734375 6.484375 \r\nQ 5.515625 14.40625 5.515625 27.296875 \r\nQ 5.515625 40.1875 11.734375 48.09375 \r\nQ 17.96875 56 27.875 56 \r\nQ 33.9375 56 38.25 53.625 \r\nQ 42.578125 51.265625 45.40625 46.390625 \r\nz\r\nM 14.796875 27.296875 \r\nQ 14.796875 17.390625 18.875 11.75 \r\nQ 22.953125 6.109375 30.078125 6.109375 \r\nQ 37.203125 6.109375 41.296875 11.75 \r\nQ 45.40625 17.390625 45.40625 27.296875 \r\nQ 45.40625 37.203125 41.296875 42.84375 \r\nQ 37.203125 48.484375 30.078125 48.484375 \r\nQ 22.953125 48.484375 18.875 42.84375 \r\nQ 14.796875 37.203125 14.796875 27.296875 \r\nz\r\n\" id=\"DejaVuSans-100\"/>\r\n     <path d=\"M 12.40625 8.296875 \r\nL 28.515625 8.296875 \r\nL 28.515625 63.921875 \r\nL 10.984375 60.40625 \r\nL 10.984375 69.390625 \r\nL 28.421875 72.90625 \r\nL 38.28125 72.90625 \r\nL 38.28125 8.296875 \r\nL 54.390625 8.296875 \r\nL 54.390625 0 \r\nL 12.40625 0 \r\nz\r\n\" id=\"DejaVuSans-49\"/>\r\n     <path d=\"M 10.6875 12.40625 \r\nL 21 12.40625 \r\nL 21 0 \r\nL 10.6875 0 \r\nz\r\n\" id=\"DejaVuSans-46\"/>\r\n     <path d=\"M 31.78125 66.40625 \r\nQ 24.171875 66.40625 20.328125 58.90625 \r\nQ 16.5 51.421875 16.5 36.375 \r\nQ 16.5 21.390625 20.328125 13.890625 \r\nQ 24.171875 6.390625 31.78125 6.390625 \r\nQ 39.453125 6.390625 43.28125 13.890625 \r\nQ 47.125 21.390625 47.125 36.375 \r\nQ 47.125 51.421875 43.28125 58.90625 \r\nQ 39.453125 66.40625 31.78125 66.40625 \r\nz\r\nM 31.78125 74.21875 \r\nQ 44.046875 74.21875 50.515625 64.515625 \r\nQ 56.984375 54.828125 56.984375 36.375 \r\nQ 56.984375 17.96875 50.515625 8.265625 \r\nQ 44.046875 -1.421875 31.78125 -1.421875 \r\nQ 19.53125 -1.421875 13.0625 8.265625 \r\nQ 6.59375 17.96875 6.59375 36.375 \r\nQ 6.59375 54.828125 13.0625 64.515625 \r\nQ 19.53125 74.21875 31.78125 74.21875 \r\nz\r\n\" id=\"DejaVuSans-48\"/>\r\n     <path d=\"M 10.984375 1.515625 \r\nL 10.984375 10.5 \r\nQ 14.703125 8.734375 18.5 7.8125 \r\nQ 22.3125 6.890625 25.984375 6.890625 \r\nQ 35.75 6.890625 40.890625 13.453125 \r\nQ 46.046875 20.015625 46.78125 33.40625 \r\nQ 43.953125 29.203125 39.59375 26.953125 \r\nQ 35.25 24.703125 29.984375 24.703125 \r\nQ 19.046875 24.703125 12.671875 31.3125 \r\nQ 6.296875 37.9375 6.296875 49.421875 \r\nQ 6.296875 60.640625 12.9375 67.421875 \r\nQ 19.578125 74.21875 30.609375 74.21875 \r\nQ 43.265625 74.21875 49.921875 64.515625 \r\nQ 56.59375 54.828125 56.59375 36.375 \r\nQ 56.59375 19.140625 48.40625 8.859375 \r\nQ 40.234375 -1.421875 26.421875 -1.421875 \r\nQ 22.703125 -1.421875 18.890625 -0.6875 \r\nQ 15.09375 0.046875 10.984375 1.515625 \r\nz\r\nM 30.609375 32.421875 \r\nQ 37.25 32.421875 41.125 36.953125 \r\nQ 45.015625 41.5 45.015625 49.421875 \r\nQ 45.015625 57.28125 41.125 61.84375 \r\nQ 37.25 66.40625 30.609375 66.40625 \r\nQ 23.96875 66.40625 20.09375 61.84375 \r\nQ 16.21875 57.28125 16.21875 49.421875 \r\nQ 16.21875 41.5 20.09375 36.953125 \r\nQ 23.96875 32.421875 30.609375 32.421875 \r\nz\r\n\" id=\"DejaVuSans-57\"/>\r\n     <path d=\"M 8.015625 75.875 \r\nL 15.828125 75.875 \r\nQ 23.140625 64.359375 26.78125 53.3125 \r\nQ 30.421875 42.28125 30.421875 31.390625 \r\nQ 30.421875 20.453125 26.78125 9.375 \r\nQ 23.140625 -1.703125 15.828125 -13.1875 \r\nL 8.015625 -13.1875 \r\nQ 14.5 -2 17.703125 9.0625 \r\nQ 20.90625 20.125 20.90625 31.390625 \r\nQ 20.90625 42.671875 17.703125 53.65625 \r\nQ 14.5 64.65625 8.015625 75.875 \r\nz\r\n\" id=\"DejaVuSans-41\"/>\r\n    </defs>\r\n    <g transform=\"translate(289.539286 16.318125)scale(0.12 -0.12)\">\r\n     <use xlink:href=\"#DejaVuSans-108\"/>\r\n     <use x=\"27.783203\" xlink:href=\"#DejaVuSans-98\"/>\r\n     <use x=\"91.259766\" xlink:href=\"#DejaVuSans-108\"/>\r\n     <use x=\"119.042969\" xlink:href=\"#DejaVuSans-58\"/>\r\n     <use x=\"152.734375\" xlink:href=\"#DejaVuSans-53\"/>\r\n     <use x=\"216.357422\" xlink:href=\"#DejaVuSans-32\"/>\r\n     <use x=\"248.144531\" xlink:href=\"#DejaVuSans-40\"/>\r\n     <use x=\"287.158203\" xlink:href=\"#DejaVuSans-100\"/>\r\n     <use x=\"350.634766\" xlink:href=\"#DejaVuSans-58\"/>\r\n     <use x=\"384.326172\" xlink:href=\"#DejaVuSans-49\"/>\r\n     <use x=\"447.949219\" xlink:href=\"#DejaVuSans-46\"/>\r\n     <use x=\"479.736328\" xlink:href=\"#DejaVuSans-48\"/>\r\n     <use x=\"543.359375\" xlink:href=\"#DejaVuSans-57\"/>\r\n     <use x=\"606.982422\" xlink:href=\"#DejaVuSans-48\"/>\r\n     <use x=\"670.605469\" xlink:href=\"#DejaVuSans-48\"/>\r\n     <use x=\"734.228516\" xlink:href=\"#DejaVuSans-41\"/>\r\n    </g>\r\n   </g>\r\n  </g>\r\n  <g id=\"axes_3\">\r\n   <g id=\"patch_12\">\r\n    <path d=\"M 469.854286 213.632411 \r\nL 661.168571 213.632411 \r\nL 661.168571 22.318125 \r\nL 469.854286 22.318125 \r\nz\r\n\" style=\"fill:#ffffff;\"/>\r\n   </g>\r\n   <g clip-path=\"url(#p0a29992528)\">\r\n    <image height=\"192\" id=\"image0c28e33a08\" transform=\"scale(1 -1)translate(0 -192)\" width=\"192\" x=\"469.854286\" xlink:href=\"data:image/png;base64,\r\niVBORw0KGgoAAAANSUhEUgAAAMAAAADACAYAAABS3GwHAAAABHNCSVQICAgIfAhkiAAABLNJREFUeJzt3U9o13Ucx3F/bZU2osIoKEoJhBJhSHlRDx2C/lgEdslDUFAXhUFYEekhCGoeKpho0EEDD10qMhFsHapj1qEywtKIpElEKkZiSvPbOfi+f20/Nrf9Xo/H8fvm+wfGcx/48N2+naaZaBZBqCvm+gFgLgmAaAIgmgCIJgCiCYBoAiCaAIgmAKIJgGgCIJoAiCYAogmAaAIgmgCIJgCiCYBoAiCaAIg2ONcPMKsu/FKODm9cX87eOTbQenzNDZfKc5764sTUn4t5wwpANAEQTQBEEwDRBEC0vt4Fan4/XM72HW/f6SGLFYBoAiCaAIgmAKIJgGgCIJoAiCYAogmAaAIgmgCIJgCiCYBoff026KJrbipHK4bq74Mf/avTevy7P+vfF+d3rCtnS54bL2eLBobqGbPOCkA0ARBNAEQTANEEQDQBEK3TNBP1fmAfO/XscDl76eDZ1uO9/hn97m8P1cPFd/Z4VWaCFYBoAiCaAIgmAKIJgGgCIFp/vw3axdI3vylnAweXtx9vf0n0fzVH9pazzpodvV2UGWEFIJoAiCYAogmAaAIgmgCIFvs2aDejw8taj0/83ds+6ON3TJazdQeO1CcOXt/T/Zg6KwDRBEA0ARBNAEQTANEEQDTboC2aU5+3Ht/z4BPlOV+f7e13ydZ1V5ez5Xt+6OmaTJ0VgGgCIJoAiCYAogmAaHaBpuHstnvK2fb3/pjx+4199X4561x794zfL5EVgGgCIJoAiCYAogmAaAIgmm3QaWjOf1/Otgw/NOP3e2XDdeWs2792ZOqsAEQTANEEQDQBEE0ARBMA0WK/ENOLzpKV5WzXB5vL2cubdpez0xfr+/304+lytvTiifrEq26vZ/yHFYBoAiCaAIgmAKIJgGgCIJq3QS+D5uMny9nIyGflbLLLT2bzcP21mlXvftk+GLyxvmAoKwDRBEA0ARBNAEQTANEEQDTboJdBtz+mP7Th/nJ24NeBcjbQ5ZvdY8+vaD3eefqT+qRQVgCiCYBoAiCaAIgmAKIJgGi2QefaxZPlaPOqteWs2zboLYvbf6QvfjRantNZtqm+YB+zAhBNAEQTANEEQDQBEE0ARLMNOo+deWF1Odv24ZlpX++Zuy6Vs9X7u/yv0T5mBSCaAIgmAKIJgGgCIJpdoHmsObm/nO18eKScHTvX5U25wtjeR8pZZ+3OaV9vobACEE0ARBMA0QRANAEQTQBEsw26QDU/7ytnrz66vfX4bxfq7dF7b65flHtsfLx+kCtvq2cDQ/VsnrACEE0ARBMA0QRANAEQTQBEsw3ah5q372s9PvL68Z6u1+2D3bs+faOcdW7d2NP9LicrANEEQDQBEE0ARBMA0QRAtMG5fgBmwcr2D2UPDdbboOf+ma2Hmd+sAEQTANEEQDQBEE0ARBMA0WyD9qHO+rdaj7+29YHynC2jR8vZZLebNQv7ZWIrANEEQDQBEE0ARBMA0QRANH8UTzQrANEEQDQBEE0ARBMA0QRANAEQTQBEEwDRBEA0ARBNAEQTANEEQDQBEE0ARBMA0QRANAEQTQBEEwDRBEA0ARBNAEQTANEEQDQBEE0ARBMA0QRANAEQTQBEEwDR/gWQ4Lts+uR9dQAAAABJRU5ErkJggg==\" y=\"-21.632411\"/>\r\n   </g>\r\n   <g id=\"matplotlib.axis_5\"/>\r\n   <g id=\"matplotlib.axis_6\"/>\r\n   <g id=\"patch_13\">\r\n    <path d=\"M 469.854286 213.632411 \r\nL 469.854286 22.318125 \r\n\" style=\"fill:none;stroke:#000000;stroke-linecap:square;stroke-linejoin:miter;stroke-width:0.8;\"/>\r\n   </g>\r\n   <g id=\"patch_14\">\r\n    <path d=\"M 661.168571 213.632411 \r\nL 661.168571 22.318125 \r\n\" style=\"fill:none;stroke:#000000;stroke-linecap:square;stroke-linejoin:miter;stroke-width:0.8;\"/>\r\n   </g>\r\n   <g id=\"patch_15\">\r\n    <path d=\"M 469.854286 213.632411 \r\nL 661.168571 213.632411 \r\n\" style=\"fill:none;stroke:#000000;stroke-linecap:square;stroke-linejoin:miter;stroke-width:0.8;\"/>\r\n   </g>\r\n   <g id=\"patch_16\">\r\n    <path d=\"M 469.854286 22.318125 \r\nL 661.168571 22.318125 \r\n\" style=\"fill:none;stroke:#000000;stroke-linecap:square;stroke-linejoin:miter;stroke-width:0.8;\"/>\r\n   </g>\r\n   <g id=\"text_3\">\r\n    <!-- lbl:1 (d:1.0941) -->\r\n    <defs>\r\n     <path d=\"M 37.796875 64.3125 \r\nL 12.890625 25.390625 \r\nL 37.796875 25.390625 \r\nz\r\nM 35.203125 72.90625 \r\nL 47.609375 72.90625 \r\nL 47.609375 25.390625 \r\nL 58.015625 25.390625 \r\nL 58.015625 17.1875 \r\nL 47.609375 17.1875 \r\nL 47.609375 0 \r\nL 37.796875 0 \r\nL 37.796875 17.1875 \r\nL 4.890625 17.1875 \r\nL 4.890625 26.703125 \r\nz\r\n\" id=\"DejaVuSans-52\"/>\r\n    </defs>\r\n    <g transform=\"translate(519.116429 16.318125)scale(0.12 -0.12)\">\r\n     <use xlink:href=\"#DejaVuSans-108\"/>\r\n     <use x=\"27.783203\" xlink:href=\"#DejaVuSans-98\"/>\r\n     <use x=\"91.259766\" xlink:href=\"#DejaVuSans-108\"/>\r\n     <use x=\"119.042969\" xlink:href=\"#DejaVuSans-58\"/>\r\n     <use x=\"152.734375\" xlink:href=\"#DejaVuSans-49\"/>\r\n     <use x=\"216.357422\" xlink:href=\"#DejaVuSans-32\"/>\r\n     <use x=\"248.144531\" xlink:href=\"#DejaVuSans-40\"/>\r\n     <use x=\"287.158203\" xlink:href=\"#DejaVuSans-100\"/>\r\n     <use x=\"350.634766\" xlink:href=\"#DejaVuSans-58\"/>\r\n     <use x=\"384.326172\" xlink:href=\"#DejaVuSans-49\"/>\r\n     <use x=\"447.949219\" xlink:href=\"#DejaVuSans-46\"/>\r\n     <use x=\"479.736328\" xlink:href=\"#DejaVuSans-48\"/>\r\n     <use x=\"543.359375\" xlink:href=\"#DejaVuSans-57\"/>\r\n     <use x=\"606.982422\" xlink:href=\"#DejaVuSans-52\"/>\r\n     <use x=\"670.605469\" xlink:href=\"#DejaVuSans-49\"/>\r\n     <use x=\"734.228516\" xlink:href=\"#DejaVuSans-41\"/>\r\n    </g>\r\n   </g>\r\n  </g>\r\n  <g id=\"axes_4\">\r\n   <g id=\"patch_17\">\r\n    <path d=\"M 699.431429 213.632411 \r\nL 890.745714 213.632411 \r\nL 890.745714 22.318125 \r\nL 699.431429 22.318125 \r\nz\r\n\" style=\"fill:#ffffff;\"/>\r\n   </g>\r\n   <g clip-path=\"url(#pdd1de82c46)\">\r\n    <image height=\"192\" id=\"image309e314c38\" transform=\"scale(1 -1)translate(0 -192)\" width=\"192\" x=\"699.431429\" xlink:href=\"data:image/png;base64,\r\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\" y=\"-21.632411\"/>\r\n   </g>\r\n   <g id=\"matplotlib.axis_7\"/>\r\n   <g id=\"matplotlib.axis_8\"/>\r\n   <g id=\"patch_18\">\r\n    <path d=\"M 699.431429 213.632411 \r\nL 699.431429 22.318125 \r\n\" style=\"fill:none;stroke:#000000;stroke-linecap:square;stroke-linejoin:miter;stroke-width:0.8;\"/>\r\n   </g>\r\n   <g id=\"patch_19\">\r\n    <path d=\"M 890.745714 213.632411 \r\nL 890.745714 22.318125 \r\n\" style=\"fill:none;stroke:#000000;stroke-linecap:square;stroke-linejoin:miter;stroke-width:0.8;\"/>\r\n   </g>\r\n   <g id=\"patch_20\">\r\n    <path d=\"M 699.431429 213.632411 \r\nL 890.745714 213.632411 \r\n\" style=\"fill:none;stroke:#000000;stroke-linecap:square;stroke-linejoin:miter;stroke-width:0.8;\"/>\r\n   </g>\r\n   <g id=\"patch_21\">\r\n    <path d=\"M 699.431429 22.318125 \r\nL 890.745714 22.318125 \r\n\" style=\"fill:none;stroke:#000000;stroke-linecap:square;stroke-linejoin:miter;stroke-width:0.8;\"/>\r\n   </g>\r\n   <g id=\"text_4\">\r\n    <!-- lbl:0 (d:1.1608) -->\r\n    <defs>\r\n     <path d=\"M 31.78125 34.625 \r\nQ 24.75 34.625 20.71875 30.859375 \r\nQ 16.703125 27.09375 16.703125 20.515625 \r\nQ 16.703125 13.921875 20.71875 10.15625 \r\nQ 24.75 6.390625 31.78125 6.390625 \r\nQ 38.8125 6.390625 42.859375 10.171875 \r\nQ 46.921875 13.96875 46.921875 20.515625 \r\nQ 46.921875 27.09375 42.890625 30.859375 \r\nQ 38.875 34.625 31.78125 34.625 \r\nz\r\nM 21.921875 38.8125 \r\nQ 15.578125 40.375 12.03125 44.71875 \r\nQ 8.5 49.078125 8.5 55.328125 \r\nQ 8.5 64.0625 14.71875 69.140625 \r\nQ 20.953125 74.21875 31.78125 74.21875 \r\nQ 42.671875 74.21875 48.875 69.140625 \r\nQ 55.078125 64.0625 55.078125 55.328125 \r\nQ 55.078125 49.078125 51.53125 44.71875 \r\nQ 48 40.375 41.703125 38.8125 \r\nQ 48.828125 37.15625 52.796875 32.3125 \r\nQ 56.78125 27.484375 56.78125 20.515625 \r\nQ 56.78125 9.90625 50.3125 4.234375 \r\nQ 43.84375 -1.421875 31.78125 -1.421875 \r\nQ 19.734375 -1.421875 13.25 4.234375 \r\nQ 6.78125 9.90625 6.78125 20.515625 \r\nQ 6.78125 27.484375 10.78125 32.3125 \r\nQ 14.796875 37.15625 21.921875 38.8125 \r\nz\r\nM 18.3125 54.390625 \r\nQ 18.3125 48.734375 21.84375 45.5625 \r\nQ 25.390625 42.390625 31.78125 42.390625 \r\nQ 38.140625 42.390625 41.71875 45.5625 \r\nQ 45.3125 48.734375 45.3125 54.390625 \r\nQ 45.3125 60.0625 41.71875 63.234375 \r\nQ 38.140625 66.40625 31.78125 66.40625 \r\nQ 25.390625 66.40625 21.84375 63.234375 \r\nQ 18.3125 60.0625 18.3125 54.390625 \r\nz\r\n\" id=\"DejaVuSans-56\"/>\r\n    </defs>\r\n    <g transform=\"translate(748.693571 16.318125)scale(0.12 -0.12)\">\r\n     <use xlink:href=\"#DejaVuSans-108\"/>\r\n     <use x=\"27.783203\" xlink:href=\"#DejaVuSans-98\"/>\r\n     <use x=\"91.259766\" xlink:href=\"#DejaVuSans-108\"/>\r\n     <use x=\"119.042969\" xlink:href=\"#DejaVuSans-58\"/>\r\n     <use x=\"152.734375\" xlink:href=\"#DejaVuSans-48\"/>\r\n     <use x=\"216.357422\" xlink:href=\"#DejaVuSans-32\"/>\r\n     <use x=\"248.144531\" xlink:href=\"#DejaVuSans-40\"/>\r\n     <use x=\"287.158203\" xlink:href=\"#DejaVuSans-100\"/>\r\n     <use x=\"350.634766\" xlink:href=\"#DejaVuSans-58\"/>\r\n     <use x=\"384.326172\" xlink:href=\"#DejaVuSans-49\"/>\r\n     <use x=\"447.949219\" xlink:href=\"#DejaVuSans-46\"/>\r\n     <use x=\"479.736328\" xlink:href=\"#DejaVuSans-49\"/>\r\n     <use x=\"543.359375\" xlink:href=\"#DejaVuSans-54\"/>\r\n     <use x=\"606.982422\" xlink:href=\"#DejaVuSans-48\"/>\r\n     <use x=\"670.605469\" xlink:href=\"#DejaVuSans-56\"/>\r\n     <use x=\"734.228516\" xlink:href=\"#DejaVuSans-41\"/>\r\n    </g>\r\n   </g>\r\n  </g>\r\n  <g id=\"axes_5\">\r\n   <g id=\"patch_22\">\r\n    <path d=\"M 929.008571 213.632411 \r\nL 1120.322857 213.632411 \r\nL 1120.322857 22.318125 \r\nL 929.008571 22.318125 \r\nz\r\n\" style=\"fill:#ffffff;\"/>\r\n   </g>\r\n   <g clip-path=\"url(#p9283cbb6a4)\">\r\n    <image height=\"192\" id=\"imagee12d3aef49\" transform=\"scale(1 -1)translate(0 -192)\" width=\"192\" x=\"929.008571\" xlink:href=\"data:image/png;base64,\r\niVBORw0KGgoAAAANSUhEUgAAAMAAAADACAYAAABS3GwHAAAABHNCSVQICAgIfAhkiAAAA51JREFUeJzt3bGrVnUYwPFeTUghmkQE3aUhosUlaom7utQS9Ce0uOji1iwNNTTUEkRLi39AuDQEiY6K4BKXDBEVFw3sNAv9XnwP732P3O/nsz6c8x4ufN8fPNx77mqa9qc3IOrI0g8ASxIAaQIgTQCkCYA0AZAmANIEQJoASBMAaQIgTQCkCYA0AZAmANIEQJoASBMAaQIgTQCkCYA0AZAmANIEQJoASBMAaW8u/QB5z24PR7/s7Q1nv/49/u6aBi+7/PbWteE1qxPvDWeHmROANAGQJgDSBECaAEgTAGnWoAub/rw+nK1bdbIdfsKkCYA0AZAmANIEQJoASLMGXdi9r64u/QhpTgDSBECaAEgTAGkCIE0ApFmDLuy3O8+Gs2ma9/30Yu7DBDkBSBMAaQIgTQCkCYA0AZBmDboD07XPh7PfH42/g1areZ939YvT/3+/6Ps/13ECkCYA0gRAmgBIEwBpAiDNGnQHnv5xd+lHYMAJQJoASBMAaQIgTQCkCYA0a9AduPzzg+Fs7m98rnPiy6+3f9NDyglAmgBIEwBpAiBNAKTZAu3AulcVHp3m3fPyx8eHs9U75+fdNMgJQJoASBMAaQIgTQCkCYA0a9AdOLpmNveX4c5e+GDehbzECUCaAEgTAGkCIE0ApAmANAGQJgDSBECaAEgTAGkCIE0ApAmANAGQJgDSBECaAEgTAGkCIM0fxe/AQbwblO1wApAmANIEQJoASBMAaQIgzRp0Bw7i3aBshxOANAGQJgDSBECaAEgTAGnWoFsyfb+39CMwgxOANAGQJgDSBECaAEizBdrE83vD0Q/f3V5z4bzvmW8unRvOVp9cmXVPXuYEIE0ApAmANAGQJgDSBECaNegmjrw9HL1/avyOwxuPZ37eR5+OZ2+NV6S8OicAaQIgTQCkCYA0AZAmANKsQTdx7ORwdO78mfF1d/46gIdhG5wApAmANAGQJgDSBECaAEizBt3EiyfD0f27D3f4IGyLE4A0AZAmANIEQJoASBMAadagG5j+2R/Ofrr5fM2V/hv268oJQJoASBMAaQIgTQCkCYA0a9ANrI6/O5xd/Oz0ePbj/eFs79S/48878+GrPRizOQFIEwBpAiBNAKQJgDQBkLaapv3x//aBQ84JQJoASBMAaQIgTQCkCYA0AZAmANIEQJoASBMAaQIgTQCkCYA0AZAmANIEQJoASBMAaQIgTQCkCYA0AZAmANIEQJoASPsPcQBLLL5K3osAAAAASUVORK5CYII=\" y=\"-21.632411\"/>\r\n   </g>\r\n   <g id=\"matplotlib.axis_9\"/>\r\n   <g id=\"matplotlib.axis_10\"/>\r\n   <g id=\"patch_23\">\r\n    <path d=\"M 929.008571 213.632411 \r\nL 929.008571 22.318125 \r\n\" style=\"fill:none;stroke:#000000;stroke-linecap:square;stroke-linejoin:miter;stroke-width:0.8;\"/>\r\n   </g>\r\n   <g id=\"patch_24\">\r\n    <path d=\"M 1120.322857 213.632411 \r\nL 1120.322857 22.318125 \r\n\" style=\"fill:none;stroke:#000000;stroke-linecap:square;stroke-linejoin:miter;stroke-width:0.8;\"/>\r\n   </g>\r\n   <g id=\"patch_25\">\r\n    <path d=\"M 929.008571 213.632411 \r\nL 1120.322857 213.632411 \r\n\" style=\"fill:none;stroke:#000000;stroke-linecap:square;stroke-linejoin:miter;stroke-width:0.8;\"/>\r\n   </g>\r\n   <g id=\"patch_26\">\r\n    <path d=\"M 929.008571 22.318125 \r\nL 1120.322857 22.318125 \r\n\" style=\"fill:none;stroke:#000000;stroke-linecap:square;stroke-linejoin:miter;stroke-width:0.8;\"/>\r\n   </g>\r\n   <g id=\"text_5\">\r\n    <!-- lbl:1 (d:1.1621) -->\r\n    <defs>\r\n     <path d=\"M 19.1875 8.296875 \r\nL 53.609375 8.296875 \r\nL 53.609375 0 \r\nL 7.328125 0 \r\nL 7.328125 8.296875 \r\nQ 12.9375 14.109375 22.625 23.890625 \r\nQ 32.328125 33.6875 34.8125 36.53125 \r\nQ 39.546875 41.84375 41.421875 45.53125 \r\nQ 43.3125 49.21875 43.3125 52.78125 \r\nQ 43.3125 58.59375 39.234375 62.25 \r\nQ 35.15625 65.921875 28.609375 65.921875 \r\nQ 23.96875 65.921875 18.8125 64.3125 \r\nQ 13.671875 62.703125 7.8125 59.421875 \r\nL 7.8125 69.390625 \r\nQ 13.765625 71.78125 18.9375 73 \r\nQ 24.125 74.21875 28.421875 74.21875 \r\nQ 39.75 74.21875 46.484375 68.546875 \r\nQ 53.21875 62.890625 53.21875 53.421875 \r\nQ 53.21875 48.921875 51.53125 44.890625 \r\nQ 49.859375 40.875 45.40625 35.40625 \r\nQ 44.1875 33.984375 37.640625 27.21875 \r\nQ 31.109375 20.453125 19.1875 8.296875 \r\nz\r\n\" id=\"DejaVuSans-50\"/>\r\n    </defs>\r\n    <g transform=\"translate(978.270714 16.318125)scale(0.12 -0.12)\">\r\n     <use xlink:href=\"#DejaVuSans-108\"/>\r\n     <use x=\"27.783203\" xlink:href=\"#DejaVuSans-98\"/>\r\n     <use x=\"91.259766\" xlink:href=\"#DejaVuSans-108\"/>\r\n     <use x=\"119.042969\" xlink:href=\"#DejaVuSans-58\"/>\r\n     <use x=\"152.734375\" xlink:href=\"#DejaVuSans-49\"/>\r\n     <use x=\"216.357422\" xlink:href=\"#DejaVuSans-32\"/>\r\n     <use x=\"248.144531\" xlink:href=\"#DejaVuSans-40\"/>\r\n     <use x=\"287.158203\" xlink:href=\"#DejaVuSans-100\"/>\r\n     <use x=\"350.634766\" xlink:href=\"#DejaVuSans-58\"/>\r\n     <use x=\"384.326172\" xlink:href=\"#DejaVuSans-49\"/>\r\n     <use x=\"447.949219\" xlink:href=\"#DejaVuSans-46\"/>\r\n     <use x=\"479.736328\" xlink:href=\"#DejaVuSans-49\"/>\r\n     <use x=\"543.359375\" xlink:href=\"#DejaVuSans-54\"/>\r\n     <use x=\"606.982422\" xlink:href=\"#DejaVuSans-50\"/>\r\n     <use x=\"670.605469\" xlink:href=\"#DejaVuSans-49\"/>\r\n     <use x=\"734.228516\" xlink:href=\"#DejaVuSans-41\"/>\r\n    </g>\r\n   </g>\r\n  </g>\r\n  <g id=\"axes_6\">\r\n   <g id=\"patch_27\">\r\n    <path d=\"M 1158.585714 213.632411 \r\nL 1349.9 213.632411 \r\nL 1349.9 22.318125 \r\nL 1158.585714 22.318125 \r\nz\r\n\" style=\"fill:#ffffff;\"/>\r\n   </g>\r\n   <g clip-path=\"url(#p247abe48e8)\">\r\n    <image height=\"192\" id=\"image3f4493af76\" transform=\"scale(1 -1)translate(0 -192)\" width=\"192\" x=\"1158.585714\" xlink:href=\"data:image/png;base64,\r\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\" y=\"-21.632411\"/>\r\n   </g>\r\n   <g id=\"matplotlib.axis_11\"/>\r\n   <g id=\"matplotlib.axis_12\"/>\r\n   <g id=\"patch_28\">\r\n    <path d=\"M 1158.585714 213.632411 \r\nL 1158.585714 22.318125 \r\n\" style=\"fill:none;stroke:#000000;stroke-linecap:square;stroke-linejoin:miter;stroke-width:0.8;\"/>\r\n   </g>\r\n   <g id=\"patch_29\">\r\n    <path d=\"M 1349.9 213.632411 \r\nL 1349.9 22.318125 \r\n\" style=\"fill:none;stroke:#000000;stroke-linecap:square;stroke-linejoin:miter;stroke-width:0.8;\"/>\r\n   </g>\r\n   <g id=\"patch_30\">\r\n    <path d=\"M 1158.585714 213.632411 \r\nL 1349.9 213.632411 \r\n\" style=\"fill:none;stroke:#000000;stroke-linecap:square;stroke-linejoin:miter;stroke-width:0.8;\"/>\r\n   </g>\r\n   <g id=\"patch_31\">\r\n    <path d=\"M 1158.585714 22.318125 \r\nL 1349.9 22.318125 \r\n\" style=\"fill:none;stroke:#000000;stroke-linecap:square;stroke-linejoin:miter;stroke-width:0.8;\"/>\r\n   </g>\r\n   <g id=\"text_6\">\r\n    <!-- lbl:2 (d:1.1939) -->\r\n    <defs>\r\n     <path d=\"M 40.578125 39.3125 \r\nQ 47.65625 37.796875 51.625 33 \r\nQ 55.609375 28.21875 55.609375 21.1875 \r\nQ 55.609375 10.40625 48.1875 4.484375 \r\nQ 40.765625 -1.421875 27.09375 -1.421875 \r\nQ 22.515625 -1.421875 17.65625 -0.515625 \r\nQ 12.796875 0.390625 7.625 2.203125 \r\nL 7.625 11.71875 \r\nQ 11.71875 9.328125 16.59375 8.109375 \r\nQ 21.484375 6.890625 26.8125 6.890625 \r\nQ 36.078125 6.890625 40.9375 10.546875 \r\nQ 45.796875 14.203125 45.796875 21.1875 \r\nQ 45.796875 27.640625 41.28125 31.265625 \r\nQ 36.765625 34.90625 28.71875 34.90625 \r\nL 20.21875 34.90625 \r\nL 20.21875 43.015625 \r\nL 29.109375 43.015625 \r\nQ 36.375 43.015625 40.234375 45.921875 \r\nQ 44.09375 48.828125 44.09375 54.296875 \r\nQ 44.09375 59.90625 40.109375 62.90625 \r\nQ 36.140625 65.921875 28.71875 65.921875 \r\nQ 24.65625 65.921875 20.015625 65.03125 \r\nQ 15.375 64.15625 9.8125 62.3125 \r\nL 9.8125 71.09375 \r\nQ 15.4375 72.65625 20.34375 73.4375 \r\nQ 25.25 74.21875 29.59375 74.21875 \r\nQ 40.828125 74.21875 47.359375 69.109375 \r\nQ 53.90625 64.015625 53.90625 55.328125 \r\nQ 53.90625 49.265625 50.4375 45.09375 \r\nQ 46.96875 40.921875 40.578125 39.3125 \r\nz\r\n\" id=\"DejaVuSans-51\"/>\r\n    </defs>\r\n    <g transform=\"translate(1207.847857 16.318125)scale(0.12 -0.12)\">\r\n     <use xlink:href=\"#DejaVuSans-108\"/>\r\n     <use x=\"27.783203\" xlink:href=\"#DejaVuSans-98\"/>\r\n     <use x=\"91.259766\" xlink:href=\"#DejaVuSans-108\"/>\r\n     <use x=\"119.042969\" xlink:href=\"#DejaVuSans-58\"/>\r\n     <use x=\"152.734375\" xlink:href=\"#DejaVuSans-50\"/>\r\n     <use x=\"216.357422\" xlink:href=\"#DejaVuSans-32\"/>\r\n     <use x=\"248.144531\" xlink:href=\"#DejaVuSans-40\"/>\r\n     <use x=\"287.158203\" xlink:href=\"#DejaVuSans-100\"/>\r\n     <use x=\"350.634766\" xlink:href=\"#DejaVuSans-58\"/>\r\n     <use x=\"384.326172\" xlink:href=\"#DejaVuSans-49\"/>\r\n     <use x=\"447.949219\" xlink:href=\"#DejaVuSans-46\"/>\r\n     <use x=\"479.736328\" xlink:href=\"#DejaVuSans-49\"/>\r\n     <use x=\"543.359375\" xlink:href=\"#DejaVuSans-57\"/>\r\n     <use x=\"606.982422\" xlink:href=\"#DejaVuSans-51\"/>\r\n     <use x=\"670.605469\" xlink:href=\"#DejaVuSans-57\"/>\r\n     <use x=\"734.228516\" xlink:href=\"#DejaVuSans-41\"/>\r\n    </g>\r\n   </g>\r\n  </g>\r\n </g>\r\n <defs>\r\n  <clipPath id=\"p8a07fc6fe5\">\r\n   <rect height=\"191.314286\" width=\"191.314286\" x=\"10.7\" y=\"22.318125\"/>\r\n  </clipPath>\r\n  <clipPath id=\"pde7729273a\">\r\n   <rect height=\"191.314286\" width=\"191.314286\" x=\"240.277143\" y=\"22.318125\"/>\r\n  </clipPath>\r\n  <clipPath id=\"p0a29992528\">\r\n   <rect height=\"191.314286\" width=\"191.314286\" x=\"469.854286\" y=\"22.318125\"/>\r\n  </clipPath>\r\n  <clipPath id=\"pdd1de82c46\">\r\n   <rect height=\"191.314286\" width=\"191.314286\" x=\"699.431429\" y=\"22.318125\"/>\r\n  </clipPath>\r\n  <clipPath id=\"p9283cbb6a4\">\r\n   <rect height=\"191.314286\" width=\"191.314286\" x=\"929.008571\" y=\"22.318125\"/>\r\n  </clipPath>\r\n  <clipPath id=\"p247abe48e8\">\r\n   <rect height=\"191.314286\" width=\"191.314286\" x=\"1158.585714\" y=\"22.318125\"/>\r\n  </clipPath>\r\n </defs>\r\n</svg>\r\n",
      "image/png": "[encoded data removed]"
     },
     "metadata": {}
    }
   ],
   "source": [
    "lkp = model.single_lookup(x_test[example_id])\n",
    "print([d['distance'] for d in lkp])\n",
    "viz_neigbors_imgs(x_test[example_id], y_test[example_id], lkp)"
   ]
  },
  {
   "cell_type": "code",
   "execution_count": 32,
   "metadata": {
    "tags": []
   },
   "outputs": [
    {
     "output_type": "stream",
     "name": "stdout",
     "text": [
      "[0.0050917864, 1.1614685, 1.1685871, 1.2205169, 1.2451594]\n"
     ]
    },
    {
     "output_type": "execute_result",
     "data": {
      "text/plain": [
       "<tf.Tensor: shape=(1, 5), dtype=float32, numpy=\n",
       "array([[0.00509179, 1.1614685 , 1.1685871 , 1.2205169 , 1.2451594 ]],\n",
       "      dtype=float32)>"
      ]
     },
     "metadata": {},
     "execution_count": 32
    }
   ],
   "source": [
    "from tensorflow_similarity.metrics import  cosine\n",
    "\n",
    "embedding = model.predict(tf.expand_dims(x_test[example_id], axis=0))[0]\n",
    "lkp_data = model.single_lookup(x_test[example_id])\n",
    "print([d['distance'] for d in lkp_data])\n",
    "\n",
    "ngb_embs = [d['embedding'] for d in lkp_data]\n",
    "cosine(tf.expand_dims(embedding, axis=0), tf.constant(ngb_embs))"
   ]
  },
  {
   "source": [
    "# Indexer stats\n",
    "\n",
    "You can display the indexer performance summary using the `index_summary()` function."
   ],
   "cell_type": "markdown",
   "metadata": {}
  },
  {
   "cell_type": "code",
   "execution_count": null,
   "metadata": {},
   "outputs": [],
   "source": [
    "model.index_summary()"
   ]
  }
 ],
 "metadata": {
  "kernelspec": {
   "display_name": "Python 3.6.7 64-bit",
   "language": "python",
   "name": "python36764bit1164f64651f442398f7288c44aeadef0"
  },
  "language_info": {
   "codemirror_mode": {
    "name": "ipython",
    "version": 3
   },
   "file_extension": ".py",
   "mimetype": "text/x-python",
   "name": "python",
   "nbconvert_exporter": "python",
   "pygments_lexer": "ipython3",
   "version": "3.6.7-candidate"
  }
 },
 "nbformat": 4,
 "nbformat_minor": 2
}